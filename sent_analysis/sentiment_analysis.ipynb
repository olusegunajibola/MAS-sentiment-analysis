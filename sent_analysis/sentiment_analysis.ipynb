{
 "cells": [
  {
   "metadata": {},
   "cell_type": "markdown",
   "source": [
    "# Sentiment Analysis of Financial News\n",
    "\n",
    "The data source is available at [Kaggle](https://www.kaggle.com/datasets/ankurzing/sentiment-analysis-for-financial-news?resource=download). \n",
    "\n",
    "**Context**: This dataset (FinancialPhraseBank) contains the sentiments for financial news headlines from the perspective of a retail investor."
   ],
   "id": "367edc3828bf028e"
  },
  {
   "cell_type": "code",
   "id": "initial_id",
   "metadata": {
    "collapsed": true
   },
   "source": [
    "import time\n",
    "import os\n",
    "\n",
    "import pandas as pd\n",
    "import numpy as np\n",
    "\n",
    "import matplotlib.pyplot as plt\n",
    "\n",
    "import nltk\n",
    "from nltk.tokenize import word_tokenize\n",
    "\n",
    "import transformers # transformers library by Hugging Face\n",
    "from transformers import MarianMTModel, pipeline\n",
    "\n",
    "import torch\n",
    "import torch.nn as nn\n",
    "import torch.optim as optim\n",
    "from torch.utils.data import Dataset, DataLoader\n",
    "from torch.nn.utils.rnn import pad_sequence\n",
    "\n",
    "# from torchtext.vocab import GloVe\n",
    "# from torchtext.data.utils import get_tokenizer\n",
    "\n",
    "from sklearn.model_selection import train_test_split, GridSearchCV, cross_val_score\n",
    "from sklearn.preprocessing import LabelEncoder\n",
    "from sklearn.metrics import accuracy_score, precision_recall_fscore_support, confusion_matrix, ConfusionMatrixDisplay,  precision_score, recall_score, f1_score, confusion_matrix, classification_report\n",
    "from sklearn.linear_model import LogisticRegression\n",
    "\n",
    "import pickle\n",
    "import joblib \n",
    "\n"
   ],
   "outputs": [],
   "execution_count": null
  },
  {
   "metadata": {},
   "cell_type": "markdown",
   "source": "We first do a GPU check.",
   "id": "4ba8ffb939638db1"
  },
  {
   "metadata": {},
   "cell_type": "code",
   "source": [
    "print(torch.version.cuda)\n",
    "print(torch.cuda.is_available())  # Should return True if CUDA is available\n",
    "print(torch.cuda.device_count())\n",
    "print(torch.cuda.current_device())\n",
    "print(torch.cuda.get_device_name(torch.cuda.current_device()))"
   ],
   "id": "16d482c772a3ab74",
   "outputs": [],
   "execution_count": null
  },
  {
   "metadata": {},
   "cell_type": "code",
   "source": "os.getcwd()",
   "id": "e2e6e0d8fd7ecaec",
   "outputs": [],
   "execution_count": null
  },
  {
   "metadata": {},
   "cell_type": "code",
   "source": [
    "data = pd.read_csv(\"D:\\Data\\PyCharmProjects\\MAS-sentiment-analysis\\data/financial_news.csv\", \n",
    "                   names=['sentiment', 'news'])\n",
    "data.sample(10)"
   ],
   "id": "cb96f35e6f274307",
   "outputs": [],
   "execution_count": null
  },
  {
   "metadata": {},
   "cell_type": "code",
   "source": "data.info()",
   "id": "dd8f2bb51cf9843e",
   "outputs": [],
   "execution_count": null
  },
  {
   "metadata": {},
   "cell_type": "markdown",
   "source": "Our dataframe consists of 4,846 rows with just two columns i.e sentiment and news.",
   "id": "2c08041a13084d5d"
  },
  {
   "metadata": {},
   "cell_type": "markdown",
   "source": "## Data Analysis",
   "id": "5bb342160d38fa08"
  },
  {
   "metadata": {},
   "cell_type": "code",
   "source": [
    "value_counts = data['sentiment'].value_counts(normalize=True) * 100  # Get percentages\n",
    "count_with_percentages = data['sentiment'].value_counts().to_frame('counts')  # Get counts\n",
    "count_with_percentages['percentage'] = round(value_counts, 2)  # Add percentages to the DataFrame\n",
    "\n",
    "print(count_with_percentages)"
   ],
   "id": "aa0013cfb87829b",
   "outputs": [],
   "execution_count": null
  },
  {
   "metadata": {},
   "cell_type": "code",
   "source": [
    "def pie_plot():\n",
    "    # Calculate counts and percentages\n",
    "    value_counts = data['sentiment'].value_counts()\n",
    "    percentages = value_counts / value_counts.sum() * 100\n",
    "    \n",
    "    # Create labels with both values and percentages\n",
    "    labels = [f'{label}: {count}' for label, count in zip(value_counts.index, value_counts)]\n",
    "    \n",
    "    # Define the explode parameter to separate the \"negative\" slice\n",
    "    explode = [0.05 if label == 'negative' else 0 for label in value_counts.index]\n",
    "    \n",
    "    # Plot pie chart\n",
    "    plt.figure(figsize=(6, 6))\n",
    "    plt.pie(value_counts, labels=labels, autopct='%1.1f%%', startangle=140, colors=plt.cm.Paired.colors, explode=explode)\n",
    "    plt.title('Sentiment Distribution on Financial Dataset')\n",
    "    plt.show()"
   ],
   "id": "ee379df86b5371d1",
   "outputs": [],
   "execution_count": null
  },
  {
   "metadata": {},
   "cell_type": "code",
   "source": "pie_plot()",
   "id": "c2a2c10b8951a056",
   "outputs": [],
   "execution_count": null
  },
  {
   "metadata": {},
   "cell_type": "markdown",
   "source": "## Data Preprocessing",
   "id": "1d750249b7015add"
  },
  {
   "metadata": {},
   "cell_type": "code",
   "source": [
    "# Encode the sentiment labels to integers\n",
    "label_encoder = LabelEncoder()\n",
    "data['sentiment_encoded'] = label_encoder.fit_transform(data['sentiment'])"
   ],
   "id": "aa1e5bdc08f962c2",
   "outputs": [],
   "execution_count": null
  },
  {
   "metadata": {},
   "cell_type": "markdown",
   "source": [
    "With the encoder, we have \n",
    "- negative = 0, \n",
    "- neutral = 1, \n",
    "- positive = 2."
   ],
   "id": "ebc734c1dc176c6a"
  },
  {
   "metadata": {},
   "cell_type": "code",
   "source": "data.sample(50)",
   "id": "8ffce42179795451",
   "outputs": [],
   "execution_count": null
  },
  {
   "metadata": {},
   "cell_type": "code",
   "source": [
    "# Split the data into features (X) and target (y)\n",
    "X = data['news'].values\n",
    "y = data['sentiment_encoded'].values\n",
    "\n",
    "# Split the data into training and testing sets\n",
    "X_train, X_test, y_train, y_test = train_test_split(X, y, test_size=0.2, random_state=42)"
   ],
   "id": "4c92b76aba68147b",
   "outputs": [],
   "execution_count": null
  },
  {
   "metadata": {},
   "cell_type": "markdown",
   "source": "# Models",
   "id": "5180d7878a80156a"
  },
  {
   "metadata": {},
   "cell_type": "markdown",
   "source": "## 1. LSTM Model",
   "id": "39e2b61bc2bbc514"
  },
  {
   "metadata": {},
   "cell_type": "code",
   "source": [
    "class SentimentDataset(Dataset):\n",
    "    def __init__(self, texts, labels, vocab, tokenizer, max_len=100):\n",
    "        self.texts = texts\n",
    "        self.labels = torch.tensor(labels, dtype=torch.long)\n",
    "        self.vocab = vocab\n",
    "        self.tokenizer = tokenizer\n",
    "        self.max_len = max_len\n",
    "        self.unk_idx = self.vocab.stoi.get('<unk>', len(self.vocab.stoi))\n",
    "    \n",
    "    def __len__(self):\n",
    "        return len(self.texts)\n",
    "    \n",
    "    def __getitem__(self, idx):\n",
    "        text = self.texts[idx]\n",
    "        label = self.labels[idx]\n",
    "        \n",
    "        tokenized = [self.vocab.stoi.get(token, self.unk_idx) for token in self.tokenizer(text)]\n",
    "        tokenized = [idx if idx < len(self.vocab.stoi) else 0 for idx in tokenized] \n",
    "\n",
    "        # # Debugging: Check if any index is out of range\n",
    "        # if torch.any(tokenized_tensor >= len(self.vocab.stoi)):\n",
    "        #     print(f\"Out-of-range index in text at index {idx}: {text}\")\n",
    "        #     print(f\"Tokenized indices: {tokenized_tensor}\")\n",
    "        #     print(f\"Vocabulary size: {len(self.vocab.stoi)}\")\n",
    "\n",
    "        return torch.tensor(tokenized, dtype=torch.long), label"
   ],
   "id": "7d07832e9e1a49ac",
   "outputs": [],
   "execution_count": null
  },
  {
   "metadata": {},
   "cell_type": "code",
   "source": [
    "# Initialize the GloVe vocabulary and tokenizer\n",
    "glove = GloVe(name='6B', dim=100)  # 100-dimensional GloVe vectors\n",
    "tokenizer = get_tokenizer(\"basic_english\")\n",
    "\n",
    "# Create datasets\n",
    "train_dataset = SentimentDataset(X_train, y_train, glove, tokenizer)\n",
    "test_dataset = SentimentDataset(X_test, y_test, glove, tokenizer)\n",
    "\n",
    "# Define a collate function to pad sequences\n",
    "def collate_batch(batch):\n",
    "    texts, labels = zip(*batch)\n",
    "    texts_padded = pad_sequence(texts, batch_first=True, padding_value=0)\n",
    "    return texts_padded, torch.tensor(labels, dtype=torch.long)\n",
    "\n",
    "# Create DataLoaders\n",
    "batch_size = 32\n",
    "train_loader = DataLoader(train_dataset, batch_size=batch_size, shuffle=True, collate_fn=collate_batch)\n",
    "test_loader = DataLoader(test_dataset, batch_size=batch_size, shuffle=False, collate_fn=collate_batch)\n"
   ],
   "id": "1c73f74f9681ca37",
   "outputs": [],
   "execution_count": null
  },
  {
   "metadata": {},
   "cell_type": "code",
   "source": [
    "class LSTMModel(nn.Module):\n",
    "    def __init__(self, vocab_size, embedding_dim, hidden_dim, output_dim):\n",
    "        super(LSTMModel, self).__init__()\n",
    "        self.embedding = nn.Embedding(vocab_size, embedding_dim, padding_idx=0)\n",
    "        self.lstm = nn.LSTM(embedding_dim, hidden_dim, batch_first=True)\n",
    "        self.fc = nn.Linear(hidden_dim, output_dim)\n",
    "        self.dropout = nn.Dropout(0.5)\n",
    "    \n",
    "    def forward(self, x):\n",
    "        embedded = self.embedding(x)\n",
    "        lstm_out, _ = self.lstm(embedded)\n",
    "        lstm_out = self.dropout(lstm_out[:, -1, :])  # Use the last hidden state\n",
    "        out = self.fc(lstm_out)\n",
    "        return out"
   ],
   "id": "dd8e1dacc9f3ba15",
   "outputs": [],
   "execution_count": null
  },
  {
   "metadata": {},
   "cell_type": "code",
   "source": [
    "# vocab_size = len(glove.stoi)\n",
    "vocab_size = 768\n",
    "embedding_dim = 100\n",
    "hidden_dim = 128\n",
    "output_dim = 3  # Three sentiment classes\n",
    "\n",
    "model = LSTMModel(vocab_size, embedding_dim, hidden_dim, output_dim)\n",
    "\n",
    "# Initialize the embeddings with GloVe vectors\n",
    "model.embedding.weight.data.copy_(glove.vectors)\n",
    "\n",
    "# Loss function and optimizer\n",
    "criterion = nn.CrossEntropyLoss()\n",
    "optimizer = optim.Adam(model.parameters(), lr=0.001)"
   ],
   "id": "73b4b0da0f2e4652",
   "outputs": [],
   "execution_count": null
  },
  {
   "metadata": {},
   "cell_type": "code",
   "source": [
    "%%time\n",
    "\n",
    "num_epochs = 100\n",
    "\n",
    "for epoch in range(num_epochs):\n",
    "    model.train()\n",
    "    epoch_loss = 0\n",
    "    \n",
    "    for texts, labels in train_loader:\n",
    "        optimizer.zero_grad()\n",
    "        predictions = model(texts)\n",
    "        loss = criterion(predictions, labels)\n",
    "        loss.backward()\n",
    "        optimizer.step()\n",
    "        epoch_loss += loss.item()\n",
    "    \n",
    "    print(f'Epoch {epoch+1}/{num_epochs}, Loss: {epoch_loss/len(train_loader):.4f}')\n"
   ],
   "id": "1d1c6d605a590245",
   "outputs": [],
   "execution_count": null
  },
  {
   "metadata": {},
   "cell_type": "code",
   "source": [
    "# # Load the lstm model from memory.\n",
    "# \n",
    "# # Assuming we have the LSTMModel class definition from before\n",
    "# \n",
    "# # 1. Create the model architecture\n",
    "# model = LSTMModel(vocab_size, embedding_dim, hidden_dim, output_dim)\n",
    "# \n",
    "# # 2. Load the saved state dictionary\n",
    "# model.load_state_dict(torch.load('lstm_model.pth'))\n",
    "# \n",
    "# # 3. Set the model to evaluation mode\n",
    "# model.eval()\n"
   ],
   "id": "cd07dbc4882dd3",
   "outputs": [],
   "execution_count": null
  },
  {
   "metadata": {},
   "cell_type": "code",
   "source": [
    "# Assuming you have a test DataLoader named `test_loader`\n",
    "\n",
    "# 1. Set the model to evaluation mode\n",
    "model.eval()\n",
    "\n",
    "# 2. Disable gradient computation as we are not training\n",
    "with torch.no_grad():\n",
    "    all_predictions = []\n",
    "    all_labels = []\n",
    "\n",
    "    # 3. Iterate over the test data\n",
    "    for texts, labels in test_loader:\n",
    "        # Forward pass to get predictions\n",
    "        outputs = model(texts)\n",
    "        \n",
    "        # Get the predicted class by finding the index with the max value\n",
    "        _, predicted = torch.max(outputs, 1)\n",
    "        \n",
    "        # Append predictions and labels for metric computation\n",
    "        all_predictions.extend(predicted.cpu().numpy())\n",
    "        all_labels.extend(labels.cpu().numpy())\n",
    "\n",
    "# 4. Calculate metrics\n",
    "accuracy = accuracy_score(all_labels, all_predictions)\n",
    "precision, recall, f1, _ = precision_recall_fscore_support(all_labels, all_predictions, average='weighted')"
   ],
   "id": "bf564c369f0bd1bf",
   "outputs": [],
   "execution_count": null
  },
  {
   "metadata": {},
   "cell_type": "code",
   "source": [
    "print(f\"Test Accuracy: {accuracy:.4f}\")\n",
    "print(f\"Precision: {precision:.4f}\")\n",
    "print(f\"Recall: {recall:.4f}\")\n",
    "print(f\"F1 Score: {f1:.4f}\")"
   ],
   "id": "3c7f722973ff2d4d",
   "outputs": [],
   "execution_count": null
  },
  {
   "metadata": {},
   "cell_type": "code",
   "source": [
    "# Assuming you have a test DataLoader named `test_loader`\n",
    "# and the model is already trained and loaded.\n",
    "\n",
    "# 1. Set the model to evaluation mode\n",
    "model.eval()\n",
    "\n",
    "# 2. Disable gradient computation\n",
    "all_predictions = []\n",
    "all_labels = []\n",
    "\n",
    "with torch.no_grad():\n",
    "    for texts, labels in test_loader:\n",
    "        # Forward pass\n",
    "        outputs = model(texts)\n",
    "        \n",
    "        # Get the predicted class\n",
    "        _, predicted = torch.max(outputs, 1)\n",
    "        \n",
    "        # Collect predictions and true labels\n",
    "        all_predictions.extend(predicted.cpu().numpy())\n",
    "        all_labels.extend(labels.cpu().numpy())\n",
    "\n",
    "# 3. Generate the confusion matrix\n",
    "conf_matrix = confusion_matrix(all_labels, all_predictions)\n",
    "\n",
    "# 4. Display the confusion matrix using matplotlib\n",
    "disp = ConfusionMatrixDisplay(confusion_matrix=conf_matrix, display_labels=['Negative', 'Neutral', 'Positive'])\n",
    "disp.plot(cmap=plt.cm.Blues)\n",
    "plt.title(\"Confusion Matrix for LSTM Model\")\n",
    "plt.show()"
   ],
   "id": "fc527247591b18ac",
   "outputs": [],
   "execution_count": null
  },
  {
   "metadata": {},
   "cell_type": "code",
   "source": [
    "# Assuming `model` is your trained model\n",
    "torch.save(model.state_dict(), './models/lstm/lstm_model.pth')"
   ],
   "id": "70954ee04e4afe72",
   "outputs": [],
   "execution_count": null
  },
  {
   "metadata": {},
   "cell_type": "code",
   "source": "",
   "id": "42225679722b641",
   "outputs": [],
   "execution_count": null
  },
  {
   "metadata": {},
   "cell_type": "markdown",
   "source": "## 2. DistilBERT & Logistic Regression",
   "id": "39d546aff8c3fafa"
  },
  {
   "metadata": {},
   "cell_type": "markdown",
   "source": "The DistilBERT processes the input sentence and passes on the relevant information to the Logistic Regression Model for sentiment classification. It is BERT lite. ",
   "id": "c124be640307f677"
  },
  {
   "metadata": {},
   "cell_type": "code",
   "source": [
    "# For DistilBERT:\n",
    "model_class, tokenizer_class, pretrained_weights = (transformers.DistilBertModel,\n",
    "                                                    transformers.DistilBertTokenizer,\n",
    "                                                    'distilbert-base-uncased')\n",
    "\n",
    "# Load pretrained model/tokenizer\n",
    "tokenizer = tokenizer_class.from_pretrained(pretrained_weights)\n",
    "model = model_class.from_pretrained(pretrained_weights)"
   ],
   "id": "db1e107a2c5bab",
   "outputs": [],
   "execution_count": null
  },
  {
   "metadata": {},
   "cell_type": "code",
   "source": [
    "# tokenize all the reviews in column 0 of the dataframe \"df\"\n",
    "tokenized = data['news'].apply((lambda x: tokenizer.encode(x, add_special_tokens=True)))"
   ],
   "id": "a237bb079a387f7",
   "outputs": [],
   "execution_count": null
  },
  {
   "metadata": {},
   "cell_type": "code",
   "source": [
    "def visualized_sentence_embedding(df: pd.DataFrame, tokenized: pd.Series) -> pd.DataFrame:\n",
    "    \"\"\"\n",
    "    Function to see tokens and embeddings of the first review in df.\n",
    "    \"\"\"\n",
    "    tokens = data.iloc[0,1].split(\" \")\n",
    "    tokens.insert(0, \"CLS\")\n",
    "    tokens.append(\"SEP\")\n",
    "    assert len(tokens) == len(tokenized[0])\n",
    "    token_embeddings = list(zip(tokens, tokenized[0]))\n",
    "    df_token_embeddings = pd.DataFrame(token_embeddings, columns=[\"Tokens\", \"Embeddings\"])\n",
    "    return df_token_embeddings"
   ],
   "id": "c35217b673eeac3",
   "outputs": [],
   "execution_count": null
  },
  {
   "metadata": {},
   "cell_type": "code",
   "source": [
    "df_token_embeddings = visualized_sentence_embedding(data, tokenized)\n",
    "df_token_embeddings.head(500)"
   ],
   "id": "1907d44bd446a9bb",
   "outputs": [],
   "execution_count": null
  },
  {
   "metadata": {},
   "cell_type": "markdown",
   "source": "We pad to ensure that each sentence in the news column all have the same number of tokens.",
   "id": "da6b83a90802a8c7"
  },
  {
   "metadata": {},
   "cell_type": "code",
   "source": [
    "max_len = 0\n",
    "max_len = max([len(i) for i in tokenized.values if len(i) > max_len])\n",
    "padded_token_embeddings = np.array([i + [0]*(max_len-len(i)) for i in tokenized.values])\n",
    "print(max_len)\n",
    "print(padded_token_embeddings.shape)"
   ],
   "id": "e532c6e8cf8c3fb1",
   "outputs": [],
   "execution_count": null
  },
  {
   "metadata": {},
   "cell_type": "markdown",
   "source": "We create a separate variable called attention_mask. This variable indicates which tokens should be attended to by the model and which tokens should be ignored (masked) during processing. By setting the attention mask to 1 for the real tokens and 0 for the padding tokens, we can tell BERT to ignore the padding when processing the input. This helps to improve the accuracy of the model's predictions.",
   "id": "220986b3e2e2b5f0"
  },
  {
   "metadata": {},
   "cell_type": "code",
   "source": [
    "attention_mask = np.where(padded_token_embeddings != 0, 1, 0)\n",
    "assert attention_mask.shape == padded_token_embeddings.shape\n",
    "print(attention_mask.shape)"
   ],
   "id": "c679b0a09f36b650",
   "outputs": [],
   "execution_count": null
  },
  {
   "metadata": {},
   "cell_type": "markdown",
   "source": "Model inputs",
   "id": "f81de46434c09bc6"
  },
  {
   "metadata": {},
   "cell_type": "code",
   "source": [
    "# move model and data to gpu\n",
    "device = torch.device('cuda' if torch.cuda.is_available() else 'cpu')\n",
    "print(device)\n",
    "\n",
    "torch.cuda.empty_cache()\n",
    "\n",
    "model.to(device)  # Move the model to the GPU"
   ],
   "id": "bb489d29f7b44dbf",
   "outputs": [],
   "execution_count": null
  },
  {
   "metadata": {},
   "cell_type": "code",
   "source": [
    "batch_size = 8  # Adjust this to a smaller number that fits your GPU memory\n",
    "\n",
    "input_ids = torch.tensor(padded_token_embeddings)\n",
    "attention_mask = torch.tensor(attention_mask)\n",
    "\n",
    "# Assuming you have your input_ids and attention_mask tensors\n",
    "input_ids_batches = torch.split(input_ids, batch_size)\n",
    "attention_mask_batches = torch.split(attention_mask, batch_size)"
   ],
   "id": "9298633748a0075a",
   "outputs": [],
   "execution_count": null
  },
  {
   "metadata": {},
   "cell_type": "code",
   "source": [
    "last_hidden_states = []\n",
    "start = time.time()\n",
    "\n",
    "with torch.no_grad():\n",
    "    for input_ids_batch, attention_mask_batch in zip(input_ids_batches, attention_mask_batches):\n",
    "        outputs = model(input_ids_batch.to(device), attention_mask=attention_mask_batch.to(device))\n",
    "        last_hidden_states.append(outputs[0].cpu())  # Move outputs to CPU to free GPU memory\n",
    "\n",
    "end = time.time()\n",
    "print(round((end - start)/60, 2), 'minutes') # time in minutes\n",
    "last_hidden_states = torch.cat(last_hidden_states, dim=0)"
   ],
   "id": "10c7fcf30a4b34a7",
   "outputs": [],
   "execution_count": null
  },
  {
   "metadata": {},
   "cell_type": "code",
   "source": "last_hidden_states.shape",
   "id": "38b08c1086b6a82a",
   "outputs": [],
   "execution_count": null
  },
  {
   "metadata": {},
   "cell_type": "code",
   "source": "last_hidden_states[:,0,:].numpy()",
   "id": "ba26a131690350f7",
   "outputs": [],
   "execution_count": null
  },
  {
   "metadata": {},
   "cell_type": "code",
   "source": [
    "if not os.path.exists(\"./models/DB_n_LR/\"): # check if directory exists, else, create it!!!\n",
    "    os.mkdir(\"./models/DB_n_LR/\")\n",
    "# save trained DistilBERT model\n",
    "torch.save(model.state_dict(), './models/DB_n_LR/DB.pth')"
   ],
   "id": "60ca5a7c4a698a9b",
   "outputs": [],
   "execution_count": null
  },
  {
   "metadata": {},
   "cell_type": "code",
   "source": "",
   "id": "fa14ace7937fbcde",
   "outputs": [],
   "execution_count": null
  },
  {
   "metadata": {},
   "cell_type": "code",
   "source": [
    "# input_ids = torch.tensor(padded_token_embeddings)\n",
    "# attention_mask = torch.tensor(attention_mask)\n",
    "# \n",
    "# # moving data to GPU\n",
    "# input_ids, attention_mask = input_ids.to(device), attention_mask.to(device)"
   ],
   "id": "a4f6d88c0c6a4662",
   "outputs": [],
   "execution_count": null
  },
  {
   "metadata": {},
   "cell_type": "code",
   "source": [
    "# start = time.time()\n",
    "# \n",
    "# # !set CUDA_LAUNCH_BLOCKING=1\n",
    "# \n",
    "# with torch.no_grad():\n",
    "#     last_hidden_states = model(input_ids, attention_mask=attention_mask)\n",
    "# \n",
    "# end = time.time()\n",
    "# print(end - start) # time in seconds"
   ],
   "id": "4bd19c49c6260e85",
   "outputs": [],
   "execution_count": null
  },
  {
   "metadata": {},
   "cell_type": "code",
   "source": [
    "# extracting features and labels\n",
    "features = last_hidden_states[:,0,:].numpy()\n",
    "print(features.shape)"
   ],
   "id": "91ba50853da34310",
   "outputs": [],
   "execution_count": null
  },
  {
   "metadata": {},
   "cell_type": "code",
   "source": [
    "labels = data['sentiment_encoded']\n",
    "assert len(features) == len(labels)"
   ],
   "id": "515887fbc505bb17",
   "outputs": [],
   "execution_count": null
  },
  {
   "metadata": {},
   "cell_type": "code",
   "source": "train_features, test_features, train_labels, test_labels = train_test_split(features, labels, test_size=0.2, random_state=42)",
   "id": "38e3444d1fed42b0",
   "outputs": [],
   "execution_count": null
  },
  {
   "metadata": {},
   "cell_type": "markdown",
   "source": "## Logistic Regression",
   "id": "92794c92fec3ec82"
  },
  {
   "metadata": {},
   "cell_type": "code",
   "source": [
    "lr_clf = LogisticRegression(C=5, max_iter=1000) # baseline LR model\n",
    "lr_clf.fit(train_features, train_labels)"
   ],
   "id": "fcd198dd7b986d79",
   "outputs": [],
   "execution_count": null
  },
  {
   "metadata": {},
   "cell_type": "code",
   "source": [
    "# see how our trained LR model performs on the test set\n",
    "lr_clf.score(test_features, test_labels)"
   ],
   "id": "9ed58fb373925e0c",
   "outputs": [],
   "execution_count": null
  },
  {
   "metadata": {},
   "cell_type": "markdown",
   "source": "### Hyperparameter tuning of the LR model.",
   "id": "b853a48a4cc285f"
  },
  {
   "metadata": {},
   "cell_type": "code",
   "source": [
    "lr = LogisticRegression(random_state=42)\n",
    "\n",
    "params_lr = {\n",
    "    'penalty': ['l1','l2', 'elasticnet'],\n",
    "    'l1_ratio' : np.arange(0., 1.0, 0.1),\n",
    "    'solver' : ['saga'],\n",
    "    'tol': [0.1, 0.01, 0.001, 0.0001, 0.00001],\n",
    "    'C' : [1, 5, 10, 100],\n",
    "}\n",
    "\n",
    "# Instantiate the grid search model\n",
    "grid_search_lr = GridSearchCV(estimator=lr,\n",
    "                           param_grid=params_lr,\n",
    "                           cv = 5,\n",
    "                           n_jobs=-1, verbose=1, scoring=\"accuracy\")"
   ],
   "id": "1d2f9347309d0025",
   "outputs": [],
   "execution_count": null
  },
  {
   "metadata": {},
   "cell_type": "code",
   "source": [
    "%%time\n",
    "grid_search_lr.fit(train_features, train_labels)"
   ],
   "id": "82caf139c024c61b",
   "outputs": [],
   "execution_count": null
  },
  {
   "metadata": {},
   "cell_type": "code",
   "source": "grid_search_lr.best_score_, grid_search_lr.best_estimator_",
   "id": "dc9a29b5d8dbb2f4",
   "outputs": [],
   "execution_count": null
  },
  {
   "metadata": {
    "ExecuteTime": {
     "end_time": "2024-09-13T17:12:52.013868Z",
     "start_time": "2024-09-13T17:12:52.008213Z"
    }
   },
   "cell_type": "code",
   "source": [
    "lr_best = LogisticRegression(C=1, l1_ratio=0.7, penalty='elasticnet',\n",
    "                    random_state=42, solver='saga', tol=0.01)"
   ],
   "id": "eb630fd495b5825f",
   "outputs": [],
   "execution_count": 35
  },
  {
   "metadata": {
    "ExecuteTime": {
     "end_time": "2024-09-13T17:13:04.310124Z",
     "start_time": "2024-09-13T17:12:52.663481Z"
    }
   },
   "cell_type": "code",
   "source": [
    "%%time\n",
    "\n",
    "start = time.time()\n",
    "\n",
    "lr_best.fit(train_features, train_labels)\n",
    "\n",
    "# see how our trained LR model performs on the test set\n",
    "print('Best LR model accuracy:', lr_best.score(test_features, test_labels))\n",
    "\n",
    "end = time.time()\n",
    "print(round((end - start)/60, 2), 'minutes') # time in minutes\n",
    "print(round((end - start)/1, 2), 'seconds') # time in minutes"
   ],
   "id": "681e3644a419522d",
   "outputs": [
    {
     "name": "stdout",
     "output_type": "stream",
     "text": [
      "Best LR model accuracy: 0.790721649484536\n",
      "0.19 minutes\n",
      "11.64 seconds\n",
      "CPU times: total: 10.4 s\n",
      "Wall time: 11.6 s\n"
     ]
    }
   ],
   "execution_count": 36
  },
  {
   "metadata": {},
   "cell_type": "markdown",
   "source": "## LR evaluation",
   "id": "17db287116bec1c6"
  },
  {
   "metadata": {
    "ExecuteTime": {
     "end_time": "2024-09-13T17:13:04.348819Z",
     "start_time": "2024-09-13T17:13:04.313122Z"
    }
   },
   "cell_type": "code",
   "source": [
    "# Predict on the test set\n",
    "y_pred = lr_best.predict(test_features)\n",
    "# train_features, test_features, train_labels, test_labels \n",
    "\n",
    "# Evaluate the model\n",
    "accuracy = accuracy_score(test_labels, y_pred)\n",
    "precision = precision_score(test_labels, y_pred, average='weighted')\n",
    "recall = recall_score(test_labels, y_pred, average='weighted')\n",
    "f1 = f1_score(test_labels, y_pred, average='weighted')\n",
    "\n",
    "print(f'Accuracy: {accuracy:.4f}')\n",
    "print(f'Precision: {precision:.4f}')\n",
    "print(f'Recall: {recall:.4f}')\n",
    "print(f'F1 Score: {f1:.4f}')\n",
    "\n",
    "# Display a detailed classification report\n",
    "print(\"\\nClassification Report:\")\n",
    "print(classification_report(test_labels, y_pred))"
   ],
   "id": "2bc2729902f1dc50",
   "outputs": [
    {
     "name": "stdout",
     "output_type": "stream",
     "text": [
      "Accuracy: 0.7907\n",
      "Precision: 0.7855\n",
      "Recall: 0.7907\n",
      "F1 Score: 0.7849\n",
      "\n",
      "Classification Report:\n",
      "              precision    recall  f1-score   support\n",
      "\n",
      "           0       0.73      0.61      0.66       110\n",
      "           1       0.82      0.91      0.86       571\n",
      "           2       0.74      0.63      0.68       289\n",
      "\n",
      "    accuracy                           0.79       970\n",
      "   macro avg       0.76      0.72      0.73       970\n",
      "weighted avg       0.79      0.79      0.78       970\n",
      "\n"
     ]
    }
   ],
   "execution_count": 37
  },
  {
   "metadata": {
    "ExecuteTime": {
     "end_time": "2024-09-13T17:13:04.604337Z",
     "start_time": "2024-09-13T17:13:04.351829Z"
    }
   },
   "cell_type": "code",
   "source": [
    "# Confusion Matrix\n",
    "conf_matrix = confusion_matrix(test_labels, y_pred)\n",
    "disp = ConfusionMatrixDisplay(confusion_matrix=conf_matrix, display_labels=lr_best.classes_)\n",
    "disp.plot(cmap='Blues')\n",
    "plt.title('Confusion Matrix for DistilBERT and Logistic Regression Model')\n",
    "plt.show()"
   ],
   "id": "dd859bbf9c04f99",
   "outputs": [
    {
     "data": {
      "text/plain": [
       "<Figure size 640x480 with 2 Axes>"
      ],
      "image/png": "[encoded data removed]"
     },
     "metadata": {},
     "output_type": "display_data"
    }
   ],
   "execution_count": 38
  },
  {
   "metadata": {},
   "cell_type": "markdown",
   "source": "saving the model ",
   "id": "f65aacd6783d09de"
  },
  {
   "metadata": {},
   "cell_type": "code",
   "source": [
    "# Save the model\n",
    "with open('./models/DB_n_LR/logistic_regression_model.pkl', 'wb') as file:\n",
    "    pickle.dump(lr_best, file)"
   ],
   "id": "c0aaaccb7cdb6577",
   "outputs": [],
   "execution_count": null
  },
  {
   "metadata": {},
   "cell_type": "code",
   "source": "joblib.dump(lr_best, './models/DB_n_LR/logistic_regression_model.joblib')",
   "id": "8a5893ecbcf3306e",
   "outputs": [],
   "execution_count": null
  },
  {
   "metadata": {},
   "cell_type": "markdown",
   "source": "To load the model:",
   "id": "8fc750225062f537"
  },
  {
   "metadata": {},
   "cell_type": "code",
   "source": [
    "# with pickle\n",
    "with open('./models/DB_n_LR/logistic_regression_model.pkl', 'rb') as file:\n",
    "    lr_model = pickle.load(file)"
   ],
   "id": "64e415aef0273f5",
   "outputs": [],
   "execution_count": null
  },
  {
   "metadata": {},
   "cell_type": "code",
   "source": [
    "# Load the model with joblib\n",
    "lr_model = joblib.load('logistic_regression_model.joblib')"
   ],
   "id": "dc3d735eb325dd89",
   "outputs": [],
   "execution_count": null
  },
  {
   "metadata": {},
   "cell_type": "markdown",
   "source": "# Pretrained Transformer",
   "id": "92528e57d1943448"
  },
  {
   "metadata": {},
   "cell_type": "code",
   "source": [
    "# load sentiment analysis model\n",
    "model_name = \"distilbert-base-uncased-finetuned-sst-2-english\"\n",
    "sentiment_classifier = pipeline(\"sentiment-analysis\", model= model_name)"
   ],
   "id": "392fd57447bb7c68",
   "outputs": [],
   "execution_count": null
  },
  {
   "metadata": {},
   "cell_type": "code",
   "source": [
    "def analyze_sentiment(text, classifier):\n",
    "    \"\"\"\n",
    "    function to perform sentiment analysis on a text using a model\n",
    "    \"\"\"\n",
    "    result = classifier(text)\n",
    "    return result"
   ],
   "id": "b243dddc9213f322",
   "outputs": [],
   "execution_count": null
  },
  {
   "metadata": {},
   "cell_type": "code",
   "source": [
    "%%time\n",
    "# perform sentiment analysis on reviews and store results in new column\n",
    "news = data[\"news\"]\n",
    "results = news.apply(lambda reviews: analyze_sentiment(reviews,sentiment_classifier))\n",
    "data[\"sentiment_transformer\"] = results.apply(lambda results: results[0]['label'])"
   ],
   "id": "e81b5291e6957364",
   "outputs": [],
   "execution_count": null
  },
  {
   "metadata": {},
   "cell_type": "code",
   "source": "data[\"sentiment_transformer_score\"] = results.apply(lambda results: results[0]['score'])",
   "id": "b87b7fdf4ab87b47",
   "outputs": [],
   "execution_count": null
  },
  {
   "metadata": {},
   "cell_type": "code",
   "source": "data[\"sent_trans_NEUTRAL_SCORE\"] = data[\"sentiment_transformer_score\"].apply(lambda x: \"neutral\" if x < 0.989 else np.nan)",
   "id": "cf63a8c80fcfda6d",
   "outputs": [],
   "execution_count": null
  },
  {
   "metadata": {},
   "cell_type": "code",
   "source": "data.info()",
   "id": "3c3b18e42fd0a2dc",
   "outputs": [],
   "execution_count": null
  },
  {
   "metadata": {},
   "cell_type": "code",
   "source": [
    "# results\n",
    "data.to_csv(\"D:\\\\Data\\\\PyCharmProjects\\/MAS-sentiment-analysis/data/sentiment_transformer.csv\")"
   ],
   "id": "de77b5830fd12772",
   "outputs": [],
   "execution_count": null
  },
  {
   "metadata": {},
   "cell_type": "code",
   "source": "data_updated = pd.read_csv(\"D:\\\\Data\\\\PyCharmProjects\\/MAS-sentiment-analysis/data/sentiment_transformer_update_v1.csv\", index_col=0)",
   "id": "9d87512c975f1167",
   "outputs": [],
   "execution_count": null
  },
  {
   "metadata": {},
   "cell_type": "code",
   "source": "data_updated['combine'].value_counts()",
   "id": "3aa5d63548a7b92c",
   "outputs": [],
   "execution_count": null
  },
  {
   "metadata": {},
   "cell_type": "code",
   "source": "data['sentiment'].value_counts()",
   "id": "e24895a66cb1942",
   "outputs": [],
   "execution_count": null
  },
  {
   "metadata": {},
   "cell_type": "code",
   "source": "data_updated.info()",
   "id": "ae634b85e122be69",
   "outputs": [],
   "execution_count": null
  },
  {
   "metadata": {},
   "cell_type": "code",
   "source": [
    "# Confusion Matrix\n",
    "conf_matrix = confusion_matrix(data_updated[\"sentiment\"], data_updated[\"combine\"])\n",
    "disp = ConfusionMatrixDisplay(confusion_matrix=conf_matrix, display_labels=data_updated[\"sentiment\"].unique())\n",
    "disp.plot(cmap='Blues')\n",
    "plt.title('Confusion Matrix for Pretrained Transformer')\n",
    "plt.show()"
   ],
   "id": "89bd185884a18d23",
   "outputs": [],
   "execution_count": null
  },
  {
   "metadata": {},
   "cell_type": "code",
   "source": [
    "# Display a detailed classification report\n",
    "print(\"\\nClassification Report:\")\n",
    "print(classification_report(data_updated[\"sentiment\"], data_updated[\"combine\"]))"
   ],
   "id": "6ea8905e757528f2",
   "outputs": [],
   "execution_count": null
  },
  {
   "metadata": {},
   "cell_type": "code",
   "source": "",
   "id": "13e2c7590b219218",
   "outputs": [],
   "execution_count": null
  }
 ],
 "metadata": {
  "kernelspec": {
   "display_name": "Python 3",
   "language": "python",
   "name": "python3"
  },
  "language_info": {
   "codemirror_mode": {
    "name": "ipython",
    "version": 2
   },
   "file_extension": ".py",
   "mimetype": "text/x-python",
   "name": "python",
   "nbconvert_exporter": "python",
   "pygments_lexer": "ipython2",
   "version": "2.7.6"
  }
 },
 "nbformat": 4,
 "nbformat_minor": 5
}
