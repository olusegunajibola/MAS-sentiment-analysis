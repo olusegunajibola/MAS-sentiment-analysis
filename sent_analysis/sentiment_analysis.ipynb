{
 "cells": [
  {
   "metadata": {},
   "cell_type": "markdown",
   "source": [
    "# Sentiment Analysis of Financial News\n",
    "\n",
    "The data source is available at [Kaggle](https://www.kaggle.com/datasets/ankurzing/sentiment-analysis-for-financial-news?resource=download). \n",
    "\n",
    "**Context**: This dataset (FinancialPhraseBank) contains the sentiments for financial news headlines from the perspective of a retail investor."
   ],
   "id": "367edc3828bf028e"
  },
  {
   "cell_type": "code",
   "id": "initial_id",
   "metadata": {
    "collapsed": true,
    "ExecuteTime": {
     "end_time": "2024-09-08T06:09:16.154682Z",
     "start_time": "2024-09-08T06:09:07.670985Z"
    }
   },
   "source": [
    "import pandas as pd\n",
    "import matplotlib.pyplot as plt\n",
    "import os\n",
    "\n",
    "import nltk\n",
    "from nltk.tokenize import word_tokenize\n",
    "\n",
    "import torch\n",
    "import torch.nn as nn\n",
    "import torch.optim as optim\n",
    "from torch.utils.data import Dataset, DataLoader\n",
    "from torch.nn.utils.rnn import pad_sequence\n",
    "from torchtext.vocab import GloVe\n",
    "\n",
    "from sklearn.model_selection import train_test_split\n",
    "from sklearn.preprocessing import LabelEncoder"
   ],
   "outputs": [
    {
     "name": "stderr",
     "output_type": "stream",
     "text": [
      "C:\\Users\\oluse\\anaconda3\\envs\\udacitydlnndg\\Lib\\site-packages\\torchtext\\vocab\\__init__.py:4: UserWarning: \n",
      "/!\\ IMPORTANT WARNING ABOUT TORCHTEXT STATUS /!\\ \n",
      "Torchtext is deprecated and the last released version will be 0.18 (this one). You can silence this warning by calling the following at the beginnign of your scripts: `import torchtext; torchtext.disable_torchtext_deprecation_warning()`\n",
      "  warnings.warn(torchtext._TORCHTEXT_DEPRECATION_MSG)\n",
      "C:\\Users\\oluse\\anaconda3\\envs\\udacitydlnndg\\Lib\\site-packages\\torchtext\\utils.py:4: UserWarning: \n",
      "/!\\ IMPORTANT WARNING ABOUT TORCHTEXT STATUS /!\\ \n",
      "Torchtext is deprecated and the last released version will be 0.18 (this one). You can silence this warning by calling the following at the beginnign of your scripts: `import torchtext; torchtext.disable_torchtext_deprecation_warning()`\n",
      "  warnings.warn(torchtext._TORCHTEXT_DEPRECATION_MSG)\n"
     ]
    }
   ],
   "execution_count": 1
  },
  {
   "metadata": {
    "ExecuteTime": {
     "end_time": "2024-09-08T06:09:23.710864Z",
     "start_time": "2024-09-08T06:09:23.696789Z"
    }
   },
   "cell_type": "code",
   "source": "os.getcwd()",
   "id": "e2e6e0d8fd7ecaec",
   "outputs": [
    {
     "data": {
      "text/plain": [
       "'D:\\\\Data\\\\PyCharmProjects\\\\MAS-sentiment-analysis\\\\sent_analysis'"
      ]
     },
     "execution_count": 2,
     "metadata": {},
     "output_type": "execute_result"
    }
   ],
   "execution_count": 2
  },
  {
   "metadata": {
    "ExecuteTime": {
     "end_time": "2024-09-08T06:09:24.854748Z",
     "start_time": "2024-09-08T06:09:24.807214Z"
    }
   },
   "cell_type": "code",
   "source": [
    "data = pd.read_csv(\"D:\\Data\\PyCharmProjects\\MAS-sentiment-analysis\\data/financial_news.csv\", names=['sentiment', 'news'])\n",
    "data.sample(10)"
   ],
   "id": "cb96f35e6f274307",
   "outputs": [
    {
     "data": {
      "text/plain": [
       "     sentiment                                               news\n",
       "2354   neutral  `` Fixed Mobile Convergence solutions represen...\n",
       "1732  positive  The developers of that project predict that on...\n",
       "4365   neutral  Why put up costly cell phone towers in thinly ...\n",
       "3275   neutral  The lay-offs will start gradually and will las...\n",
       "3447   neutral  Vaisala 's Present Weather Detector measures v...\n",
       "365   positive  Ruukki 's order book at the end of 2010 was 30...\n",
       "4033  negative  Operating loss of the Pulp & Paper Machinery u...\n",
       "661   positive  The loss for the third quarter of 2007 was EUR...\n",
       "3884   neutral  The Oulu plant employs approximately 120 people .\n",
       "3430   neutral  TN means that the handset supports TeliaSonera..."
      ],
      "text/html": [
       "<div>\n",
       "<style scoped>\n",
       "    .dataframe tbody tr th:only-of-type {\n",
       "        vertical-align: middle;\n",
       "    }\n",
       "\n",
       "    .dataframe tbody tr th {\n",
       "        vertical-align: top;\n",
       "    }\n",
       "\n",
       "    .dataframe thead th {\n",
       "        text-align: right;\n",
       "    }\n",
       "</style>\n",
       "<table border=\"1\" class=\"dataframe\">\n",
       "  <thead>\n",
       "    <tr style=\"text-align: right;\">\n",
       "      <th></th>\n",
       "      <th>sentiment</th>\n",
       "      <th>news</th>\n",
       "    </tr>\n",
       "  </thead>\n",
       "  <tbody>\n",
       "    <tr>\n",
       "      <th>2354</th>\n",
       "      <td>neutral</td>\n",
       "      <td>`` Fixed Mobile Convergence solutions represen...</td>\n",
       "    </tr>\n",
       "    <tr>\n",
       "      <th>1732</th>\n",
       "      <td>positive</td>\n",
       "      <td>The developers of that project predict that on...</td>\n",
       "    </tr>\n",
       "    <tr>\n",
       "      <th>4365</th>\n",
       "      <td>neutral</td>\n",
       "      <td>Why put up costly cell phone towers in thinly ...</td>\n",
       "    </tr>\n",
       "    <tr>\n",
       "      <th>3275</th>\n",
       "      <td>neutral</td>\n",
       "      <td>The lay-offs will start gradually and will las...</td>\n",
       "    </tr>\n",
       "    <tr>\n",
       "      <th>3447</th>\n",
       "      <td>neutral</td>\n",
       "      <td>Vaisala 's Present Weather Detector measures v...</td>\n",
       "    </tr>\n",
       "    <tr>\n",
       "      <th>365</th>\n",
       "      <td>positive</td>\n",
       "      <td>Ruukki 's order book at the end of 2010 was 30...</td>\n",
       "    </tr>\n",
       "    <tr>\n",
       "      <th>4033</th>\n",
       "      <td>negative</td>\n",
       "      <td>Operating loss of the Pulp &amp; Paper Machinery u...</td>\n",
       "    </tr>\n",
       "    <tr>\n",
       "      <th>661</th>\n",
       "      <td>positive</td>\n",
       "      <td>The loss for the third quarter of 2007 was EUR...</td>\n",
       "    </tr>\n",
       "    <tr>\n",
       "      <th>3884</th>\n",
       "      <td>neutral</td>\n",
       "      <td>The Oulu plant employs approximately 120 people .</td>\n",
       "    </tr>\n",
       "    <tr>\n",
       "      <th>3430</th>\n",
       "      <td>neutral</td>\n",
       "      <td>TN means that the handset supports TeliaSonera...</td>\n",
       "    </tr>\n",
       "  </tbody>\n",
       "</table>\n",
       "</div>"
      ]
     },
     "execution_count": 3,
     "metadata": {},
     "output_type": "execute_result"
    }
   ],
   "execution_count": 3
  },
  {
   "metadata": {
    "ExecuteTime": {
     "end_time": "2024-09-08T06:09:28.155106Z",
     "start_time": "2024-09-08T06:09:28.140343Z"
    }
   },
   "cell_type": "code",
   "source": "data.info()",
   "id": "dd8f2bb51cf9843e",
   "outputs": [
    {
     "name": "stdout",
     "output_type": "stream",
     "text": [
      "<class 'pandas.core.frame.DataFrame'>\n",
      "RangeIndex: 4846 entries, 0 to 4845\n",
      "Data columns (total 2 columns):\n",
      " #   Column     Non-Null Count  Dtype \n",
      "---  ------     --------------  ----- \n",
      " 0   sentiment  4846 non-null   object\n",
      " 1   news       4846 non-null   object\n",
      "dtypes: object(2)\n",
      "memory usage: 75.8+ KB\n"
     ]
    }
   ],
   "execution_count": 4
  },
  {
   "metadata": {},
   "cell_type": "markdown",
   "source": "Our dataframe consists of 4,846 rows with just two columns i.e sentiment and news.",
   "id": "2c08041a13084d5d"
  },
  {
   "metadata": {},
   "cell_type": "markdown",
   "source": "## Data Analysis",
   "id": "5bb342160d38fa08"
  },
  {
   "metadata": {
    "ExecuteTime": {
     "end_time": "2024-09-08T06:09:33.950933Z",
     "start_time": "2024-09-08T06:09:33.939258Z"
    }
   },
   "cell_type": "code",
   "source": [
    "value_counts = data['sentiment'].value_counts(normalize=True) * 100  # Get percentages\n",
    "count_with_percentages = data['sentiment'].value_counts().to_frame('counts')  # Get counts\n",
    "count_with_percentages['percentage'] = round(value_counts, 2)  # Add percentages to the DataFrame\n",
    "\n",
    "print(count_with_percentages)"
   ],
   "id": "aa0013cfb87829b",
   "outputs": [
    {
     "name": "stdout",
     "output_type": "stream",
     "text": [
      "           counts  percentage\n",
      "sentiment                    \n",
      "neutral      2879       59.41\n",
      "positive     1363       28.13\n",
      "negative      604       12.46\n"
     ]
    }
   ],
   "execution_count": 5
  },
  {
   "metadata": {
    "ExecuteTime": {
     "end_time": "2024-09-08T06:09:35.543986Z",
     "start_time": "2024-09-08T06:09:35.535626Z"
    }
   },
   "cell_type": "code",
   "source": [
    "def pie_plot():\n",
    "    # Calculate counts and percentages\n",
    "    value_counts = data['sentiment'].value_counts()\n",
    "    percentages = value_counts / value_counts.sum() * 100\n",
    "    \n",
    "    # Create labels with both values and percentages\n",
    "    labels = [f'{label}: {count}' for label, count in zip(value_counts.index, value_counts)]\n",
    "    \n",
    "    # Define the explode parameter to separate the \"negative\" slice\n",
    "    explode = [0.05 if label == 'negative' else 0 for label in value_counts.index]\n",
    "    \n",
    "    # Plot pie chart\n",
    "    plt.figure(figsize=(6, 6))\n",
    "    plt.pie(value_counts, labels=labels, autopct='%1.1f%%', startangle=140, colors=plt.cm.Paired.colors, explode=explode)\n",
    "    plt.title('Sentiment Distribution on Financial Dataset')\n",
    "    plt.show()"
   ],
   "id": "ee379df86b5371d1",
   "outputs": [],
   "execution_count": 6
  },
  {
   "metadata": {
    "ExecuteTime": {
     "end_time": "2024-09-08T06:09:36.445073Z",
     "start_time": "2024-09-08T06:09:36.273711Z"
    }
   },
   "cell_type": "code",
   "source": "pie_plot()",
   "id": "c2a2c10b8951a056",
   "outputs": [
    {
     "data": {
      "text/plain": [
       "<Figure size 600x600 with 1 Axes>"
      ],
      "image/png": "[encoded data removed]"
     },
     "metadata": {},
     "output_type": "display_data"
    }
   ],
   "execution_count": 7
  },
  {
   "metadata": {},
   "cell_type": "markdown",
   "source": "## Data Preprocessing",
   "id": "1d750249b7015add"
  },
  {
   "metadata": {
    "ExecuteTime": {
     "end_time": "2024-09-08T06:09:38.453821Z",
     "start_time": "2024-09-08T06:09:38.444797Z"
    }
   },
   "cell_type": "code",
   "source": [
    "# Encode the sentiment labels to integers\n",
    "label_encoder = LabelEncoder()\n",
    "data['sentiment_encoded'] = label_encoder.fit_transform(data['sentiment'])"
   ],
   "id": "aa1e5bdc08f962c2",
   "outputs": [],
   "execution_count": 8
  },
  {
   "metadata": {},
   "cell_type": "markdown",
   "source": [
    "With the encoder, we have \n",
    "- negative = 0, \n",
    "- neutral = 1, \n",
    "- positive = 2."
   ],
   "id": "ebc734c1dc176c6a"
  },
  {
   "metadata": {
    "ExecuteTime": {
     "end_time": "2024-09-08T06:09:43.577603Z",
     "start_time": "2024-09-08T06:09:43.560820Z"
    }
   },
   "cell_type": "code",
   "source": "data.sample(50)",
   "id": "8ffce42179795451",
   "outputs": [
    {
     "data": {
      "text/plain": [
       "     sentiment                                               news  \\\n",
       "305   positive  This new representation extends Comptel 's glo...   \n",
       "3361   neutral  The share subscription period for stock option...   \n",
       "1763  positive  The concept enables a commercially affordable ...   \n",
       "3640   neutral  In the Czech Republic , the profiling unit at ...   \n",
       "2513   neutral  mr Bakman sees also expansion options on the T...   \n",
       "560   positive  Basware Corporation stock exchange release Aug...   \n",
       "125   positive  Sanoma Magazines ' net sales are estimated to ...   \n",
       "869    neutral  Nokia will provide Indosat turnkey services , ...   \n",
       "2302  positive  Tectia Corporation HEL : TEC1V , a provider of...   \n",
       "1239   neutral  HELSINKI ( AFX ) - Outokumpu said it has agree...   \n",
       "3172   neutral  The business goals for 2009 will realize with ...   \n",
       "1459   neutral  With the Basware Connectivity services , compa...   \n",
       "3639   neutral  In the beginning of the negotiations , the est...   \n",
       "976   positive  The company , which makes garden tools , sciss...   \n",
       "3253   neutral  The firm is headquartered in Vantaa , southern...   \n",
       "2733   neutral  A few employees would remain at the Oulu plant...   \n",
       "1558   neutral  LONDON ICIS -- Tikkurila has completed the sal...   \n",
       "4744  negative   In the Baltic countries , sales fell by 42.6 % .   \n",
       "4470  positive  The respondents praised Finnair 's reliability...   \n",
       "4447  negative  Ramirent made 18 million kroons EUR 1.15 mln l...   \n",
       "314   positive  YIT says the acquisition is a part of its stra...   \n",
       "1674   neutral  Thus the group 's balance sheet will have abou...   \n",
       "4469  positive  The Nokian tyre proves its high safety excelle...   \n",
       "3298   neutral  The Notice in its entirety with other proposal...   \n",
       "260   positive  Orders received grew by 55 % year-on-year to E...   \n",
       "2089   neutral  Cymed 's net sales are expected to amount to E...   \n",
       "4063  negative  In October , UPM reported a third-quarter net ...   \n",
       "3293   neutral  The new Kroksberg railway tunnel will be built...   \n",
       "1826  positive  `` We are delighted to welcome Elisa to our Bo...   \n",
       "4479   neutral  According to Rautaruukki , the company wants t...   \n",
       "2216   neutral  The company targets sales of Ls 27.1 mn ( Ls 2...   \n",
       "214   positive  In Q1 of 2010 , Bank of +_land 's net interest...   \n",
       "2559   neutral          Saunalahti is a part of the Elisa group .   \n",
       "1040  positive  He believes that the soy-oats have a good chan...   \n",
       "0      neutral  According to Gran , the company has no plans t...   \n",
       "1268   neutral  Its other well-known brands include fitness eq...   \n",
       "4829  negative  The OMX Helsinki index was 0.33 pct lower at 9...   \n",
       "3737   neutral  Rosa is one of the best-known Duckburg illustr...   \n",
       "2566   neutral  SSH Communications Security Corporation is hea...   \n",
       "380   positive  The group 's 12-month operating profit grew 31...   \n",
       "3597   neutral  Following the issue , the number of shares in ...   \n",
       "2002  positive  In China , Finnish Kone that provides elevator...   \n",
       "1574   neutral  Outotec 's scope of delivery includes design ,...   \n",
       "2832   neutral  Beef imports fell slightly from 2006 , to 14mn...   \n",
       "1452   neutral  Vaisala Oyj Stock exchange release 26.03.2010 ...   \n",
       "499    neutral  Mr Ashley , deputy executive chairman of Sport...   \n",
       "2125   neutral  In January-September 2007 , operating profit t...   \n",
       "4296   neutral  `` The rest of this week 's tapings of Jimmy K...   \n",
       "3749   neutral  Storengy is the GDF SUEZ company that is dedic...   \n",
       "2664   neutral  The parties have agreed not to disclose the tr...   \n",
       "\n",
       "      sentiment_encoded  \n",
       "305                   2  \n",
       "3361                  1  \n",
       "1763                  2  \n",
       "3640                  1  \n",
       "2513                  1  \n",
       "560                   2  \n",
       "125                   2  \n",
       "869                   1  \n",
       "2302                  2  \n",
       "1239                  1  \n",
       "3172                  1  \n",
       "1459                  1  \n",
       "3639                  1  \n",
       "976                   2  \n",
       "3253                  1  \n",
       "2733                  1  \n",
       "1558                  1  \n",
       "4744                  0  \n",
       "4470                  2  \n",
       "4447                  0  \n",
       "314                   2  \n",
       "1674                  1  \n",
       "4469                  2  \n",
       "3298                  1  \n",
       "260                   2  \n",
       "2089                  1  \n",
       "4063                  0  \n",
       "3293                  1  \n",
       "1826                  2  \n",
       "4479                  1  \n",
       "2216                  1  \n",
       "214                   2  \n",
       "2559                  1  \n",
       "1040                  2  \n",
       "0                     1  \n",
       "1268                  1  \n",
       "4829                  0  \n",
       "3737                  1  \n",
       "2566                  1  \n",
       "380                   2  \n",
       "3597                  1  \n",
       "2002                  2  \n",
       "1574                  1  \n",
       "2832                  1  \n",
       "1452                  1  \n",
       "499                   1  \n",
       "2125                  1  \n",
       "4296                  1  \n",
       "3749                  1  \n",
       "2664                  1  "
      ],
      "text/html": [
       "<div>\n",
       "<style scoped>\n",
       "    .dataframe tbody tr th:only-of-type {\n",
       "        vertical-align: middle;\n",
       "    }\n",
       "\n",
       "    .dataframe tbody tr th {\n",
       "        vertical-align: top;\n",
       "    }\n",
       "\n",
       "    .dataframe thead th {\n",
       "        text-align: right;\n",
       "    }\n",
       "</style>\n",
       "<table border=\"1\" class=\"dataframe\">\n",
       "  <thead>\n",
       "    <tr style=\"text-align: right;\">\n",
       "      <th></th>\n",
       "      <th>sentiment</th>\n",
       "      <th>news</th>\n",
       "      <th>sentiment_encoded</th>\n",
       "    </tr>\n",
       "  </thead>\n",
       "  <tbody>\n",
       "    <tr>\n",
       "      <th>305</th>\n",
       "      <td>positive</td>\n",
       "      <td>This new representation extends Comptel 's glo...</td>\n",
       "      <td>2</td>\n",
       "    </tr>\n",
       "    <tr>\n",
       "      <th>3361</th>\n",
       "      <td>neutral</td>\n",
       "      <td>The share subscription period for stock option...</td>\n",
       "      <td>1</td>\n",
       "    </tr>\n",
       "    <tr>\n",
       "      <th>1763</th>\n",
       "      <td>positive</td>\n",
       "      <td>The concept enables a commercially affordable ...</td>\n",
       "      <td>2</td>\n",
       "    </tr>\n",
       "    <tr>\n",
       "      <th>3640</th>\n",
       "      <td>neutral</td>\n",
       "      <td>In the Czech Republic , the profiling unit at ...</td>\n",
       "      <td>1</td>\n",
       "    </tr>\n",
       "    <tr>\n",
       "      <th>2513</th>\n",
       "      <td>neutral</td>\n",
       "      <td>mr Bakman sees also expansion options on the T...</td>\n",
       "      <td>1</td>\n",
       "    </tr>\n",
       "    <tr>\n",
       "      <th>560</th>\n",
       "      <td>positive</td>\n",
       "      <td>Basware Corporation stock exchange release Aug...</td>\n",
       "      <td>2</td>\n",
       "    </tr>\n",
       "    <tr>\n",
       "      <th>125</th>\n",
       "      <td>positive</td>\n",
       "      <td>Sanoma Magazines ' net sales are estimated to ...</td>\n",
       "      <td>2</td>\n",
       "    </tr>\n",
       "    <tr>\n",
       "      <th>869</th>\n",
       "      <td>neutral</td>\n",
       "      <td>Nokia will provide Indosat turnkey services , ...</td>\n",
       "      <td>1</td>\n",
       "    </tr>\n",
       "    <tr>\n",
       "      <th>2302</th>\n",
       "      <td>positive</td>\n",
       "      <td>Tectia Corporation HEL : TEC1V , a provider of...</td>\n",
       "      <td>2</td>\n",
       "    </tr>\n",
       "    <tr>\n",
       "      <th>1239</th>\n",
       "      <td>neutral</td>\n",
       "      <td>HELSINKI ( AFX ) - Outokumpu said it has agree...</td>\n",
       "      <td>1</td>\n",
       "    </tr>\n",
       "    <tr>\n",
       "      <th>3172</th>\n",
       "      <td>neutral</td>\n",
       "      <td>The business goals for 2009 will realize with ...</td>\n",
       "      <td>1</td>\n",
       "    </tr>\n",
       "    <tr>\n",
       "      <th>1459</th>\n",
       "      <td>neutral</td>\n",
       "      <td>With the Basware Connectivity services , compa...</td>\n",
       "      <td>1</td>\n",
       "    </tr>\n",
       "    <tr>\n",
       "      <th>3639</th>\n",
       "      <td>neutral</td>\n",
       "      <td>In the beginning of the negotiations , the est...</td>\n",
       "      <td>1</td>\n",
       "    </tr>\n",
       "    <tr>\n",
       "      <th>976</th>\n",
       "      <td>positive</td>\n",
       "      <td>The company , which makes garden tools , sciss...</td>\n",
       "      <td>2</td>\n",
       "    </tr>\n",
       "    <tr>\n",
       "      <th>3253</th>\n",
       "      <td>neutral</td>\n",
       "      <td>The firm is headquartered in Vantaa , southern...</td>\n",
       "      <td>1</td>\n",
       "    </tr>\n",
       "    <tr>\n",
       "      <th>2733</th>\n",
       "      <td>neutral</td>\n",
       "      <td>A few employees would remain at the Oulu plant...</td>\n",
       "      <td>1</td>\n",
       "    </tr>\n",
       "    <tr>\n",
       "      <th>1558</th>\n",
       "      <td>neutral</td>\n",
       "      <td>LONDON ICIS -- Tikkurila has completed the sal...</td>\n",
       "      <td>1</td>\n",
       "    </tr>\n",
       "    <tr>\n",
       "      <th>4744</th>\n",
       "      <td>negative</td>\n",
       "      <td>In the Baltic countries , sales fell by 42.6 % .</td>\n",
       "      <td>0</td>\n",
       "    </tr>\n",
       "    <tr>\n",
       "      <th>4470</th>\n",
       "      <td>positive</td>\n",
       "      <td>The respondents praised Finnair 's reliability...</td>\n",
       "      <td>2</td>\n",
       "    </tr>\n",
       "    <tr>\n",
       "      <th>4447</th>\n",
       "      <td>negative</td>\n",
       "      <td>Ramirent made 18 million kroons EUR 1.15 mln l...</td>\n",
       "      <td>0</td>\n",
       "    </tr>\n",
       "    <tr>\n",
       "      <th>314</th>\n",
       "      <td>positive</td>\n",
       "      <td>YIT says the acquisition is a part of its stra...</td>\n",
       "      <td>2</td>\n",
       "    </tr>\n",
       "    <tr>\n",
       "      <th>1674</th>\n",
       "      <td>neutral</td>\n",
       "      <td>Thus the group 's balance sheet will have abou...</td>\n",
       "      <td>1</td>\n",
       "    </tr>\n",
       "    <tr>\n",
       "      <th>4469</th>\n",
       "      <td>positive</td>\n",
       "      <td>The Nokian tyre proves its high safety excelle...</td>\n",
       "      <td>2</td>\n",
       "    </tr>\n",
       "    <tr>\n",
       "      <th>3298</th>\n",
       "      <td>neutral</td>\n",
       "      <td>The Notice in its entirety with other proposal...</td>\n",
       "      <td>1</td>\n",
       "    </tr>\n",
       "    <tr>\n",
       "      <th>260</th>\n",
       "      <td>positive</td>\n",
       "      <td>Orders received grew by 55 % year-on-year to E...</td>\n",
       "      <td>2</td>\n",
       "    </tr>\n",
       "    <tr>\n",
       "      <th>2089</th>\n",
       "      <td>neutral</td>\n",
       "      <td>Cymed 's net sales are expected to amount to E...</td>\n",
       "      <td>1</td>\n",
       "    </tr>\n",
       "    <tr>\n",
       "      <th>4063</th>\n",
       "      <td>negative</td>\n",
       "      <td>In October , UPM reported a third-quarter net ...</td>\n",
       "      <td>0</td>\n",
       "    </tr>\n",
       "    <tr>\n",
       "      <th>3293</th>\n",
       "      <td>neutral</td>\n",
       "      <td>The new Kroksberg railway tunnel will be built...</td>\n",
       "      <td>1</td>\n",
       "    </tr>\n",
       "    <tr>\n",
       "      <th>1826</th>\n",
       "      <td>positive</td>\n",
       "      <td>`` We are delighted to welcome Elisa to our Bo...</td>\n",
       "      <td>2</td>\n",
       "    </tr>\n",
       "    <tr>\n",
       "      <th>4479</th>\n",
       "      <td>neutral</td>\n",
       "      <td>According to Rautaruukki , the company wants t...</td>\n",
       "      <td>1</td>\n",
       "    </tr>\n",
       "    <tr>\n",
       "      <th>2216</th>\n",
       "      <td>neutral</td>\n",
       "      <td>The company targets sales of Ls 27.1 mn ( Ls 2...</td>\n",
       "      <td>1</td>\n",
       "    </tr>\n",
       "    <tr>\n",
       "      <th>214</th>\n",
       "      <td>positive</td>\n",
       "      <td>In Q1 of 2010 , Bank of +_land 's net interest...</td>\n",
       "      <td>2</td>\n",
       "    </tr>\n",
       "    <tr>\n",
       "      <th>2559</th>\n",
       "      <td>neutral</td>\n",
       "      <td>Saunalahti is a part of the Elisa group .</td>\n",
       "      <td>1</td>\n",
       "    </tr>\n",
       "    <tr>\n",
       "      <th>1040</th>\n",
       "      <td>positive</td>\n",
       "      <td>He believes that the soy-oats have a good chan...</td>\n",
       "      <td>2</td>\n",
       "    </tr>\n",
       "    <tr>\n",
       "      <th>0</th>\n",
       "      <td>neutral</td>\n",
       "      <td>According to Gran , the company has no plans t...</td>\n",
       "      <td>1</td>\n",
       "    </tr>\n",
       "    <tr>\n",
       "      <th>1268</th>\n",
       "      <td>neutral</td>\n",
       "      <td>Its other well-known brands include fitness eq...</td>\n",
       "      <td>1</td>\n",
       "    </tr>\n",
       "    <tr>\n",
       "      <th>4829</th>\n",
       "      <td>negative</td>\n",
       "      <td>The OMX Helsinki index was 0.33 pct lower at 9...</td>\n",
       "      <td>0</td>\n",
       "    </tr>\n",
       "    <tr>\n",
       "      <th>3737</th>\n",
       "      <td>neutral</td>\n",
       "      <td>Rosa is one of the best-known Duckburg illustr...</td>\n",
       "      <td>1</td>\n",
       "    </tr>\n",
       "    <tr>\n",
       "      <th>2566</th>\n",
       "      <td>neutral</td>\n",
       "      <td>SSH Communications Security Corporation is hea...</td>\n",
       "      <td>1</td>\n",
       "    </tr>\n",
       "    <tr>\n",
       "      <th>380</th>\n",
       "      <td>positive</td>\n",
       "      <td>The group 's 12-month operating profit grew 31...</td>\n",
       "      <td>2</td>\n",
       "    </tr>\n",
       "    <tr>\n",
       "      <th>3597</th>\n",
       "      <td>neutral</td>\n",
       "      <td>Following the issue , the number of shares in ...</td>\n",
       "      <td>1</td>\n",
       "    </tr>\n",
       "    <tr>\n",
       "      <th>2002</th>\n",
       "      <td>positive</td>\n",
       "      <td>In China , Finnish Kone that provides elevator...</td>\n",
       "      <td>2</td>\n",
       "    </tr>\n",
       "    <tr>\n",
       "      <th>1574</th>\n",
       "      <td>neutral</td>\n",
       "      <td>Outotec 's scope of delivery includes design ,...</td>\n",
       "      <td>1</td>\n",
       "    </tr>\n",
       "    <tr>\n",
       "      <th>2832</th>\n",
       "      <td>neutral</td>\n",
       "      <td>Beef imports fell slightly from 2006 , to 14mn...</td>\n",
       "      <td>1</td>\n",
       "    </tr>\n",
       "    <tr>\n",
       "      <th>1452</th>\n",
       "      <td>neutral</td>\n",
       "      <td>Vaisala Oyj Stock exchange release 26.03.2010 ...</td>\n",
       "      <td>1</td>\n",
       "    </tr>\n",
       "    <tr>\n",
       "      <th>499</th>\n",
       "      <td>neutral</td>\n",
       "      <td>Mr Ashley , deputy executive chairman of Sport...</td>\n",
       "      <td>1</td>\n",
       "    </tr>\n",
       "    <tr>\n",
       "      <th>2125</th>\n",
       "      <td>neutral</td>\n",
       "      <td>In January-September 2007 , operating profit t...</td>\n",
       "      <td>1</td>\n",
       "    </tr>\n",
       "    <tr>\n",
       "      <th>4296</th>\n",
       "      <td>neutral</td>\n",
       "      <td>`` The rest of this week 's tapings of Jimmy K...</td>\n",
       "      <td>1</td>\n",
       "    </tr>\n",
       "    <tr>\n",
       "      <th>3749</th>\n",
       "      <td>neutral</td>\n",
       "      <td>Storengy is the GDF SUEZ company that is dedic...</td>\n",
       "      <td>1</td>\n",
       "    </tr>\n",
       "    <tr>\n",
       "      <th>2664</th>\n",
       "      <td>neutral</td>\n",
       "      <td>The parties have agreed not to disclose the tr...</td>\n",
       "      <td>1</td>\n",
       "    </tr>\n",
       "  </tbody>\n",
       "</table>\n",
       "</div>"
      ]
     },
     "execution_count": 9,
     "metadata": {},
     "output_type": "execute_result"
    }
   ],
   "execution_count": 9
  },
  {
   "metadata": {
    "ExecuteTime": {
     "end_time": "2024-09-08T06:09:56.730412Z",
     "start_time": "2024-09-08T06:09:56.722851Z"
    }
   },
   "cell_type": "code",
   "source": [
    "# Split the data into features (X) and target (y)\n",
    "X = data['news'].values\n",
    "y = data['sentiment_encoded'].values\n",
    "\n",
    "# Split the data into training and testing sets\n",
    "X_train, X_test, y_train, y_test = train_test_split(X, y, test_size=0.2, random_state=42)"
   ],
   "id": "4c92b76aba68147b",
   "outputs": [],
   "execution_count": 10
  },
  {
   "metadata": {
    "ExecuteTime": {
     "end_time": "2024-09-08T07:07:54.224452Z",
     "start_time": "2024-09-08T07:07:53.169904Z"
    }
   },
   "cell_type": "code",
   "source": [
    "# Use GloVe for the vocabulary\n",
    "glove = GloVe(name='6B', dim=100)  # 100-dimensional GloVe vectors\n",
    "\n",
    "# Check if '<unk>' is in the GloVe vocabulary, if not, add it\n",
    "if '<unk>' not in glove.stoi:\n",
    "    unk_idx = len(glove.stoi)\n",
    "    glove.stoi['<unk>'] = unk_idx\n",
    "    # Add a random vector for '<unk>', or use zeros\n",
    "    glove.vectors = torch.cat([glove.vectors, torch.zeros(1, glove.dim)], dim=0)\n",
    "else:\n",
    "    unk_idx = glove.stoi['<unk>']"
   ],
   "id": "66b4542e501620df",
   "outputs": [],
   "execution_count": 29
  },
  {
   "metadata": {
    "ExecuteTime": {
     "end_time": "2024-09-08T07:07:57.768630Z",
     "start_time": "2024-09-08T07:07:57.759659Z"
    }
   },
   "cell_type": "code",
   "source": [
    "class SentimentDataset(Dataset):\n",
    "    def __init__(self, texts, labels, vocab, max_len):\n",
    "        self.texts = texts\n",
    "        self.labels = torch.tensor(labels, dtype=torch.long)\n",
    "        self.vocab = vocab\n",
    "        self.max_len = max_len\n",
    "        self.unk_idx = self.vocab.stoi.get('<unk>', len(self.vocab.stoi))\n",
    "    \n",
    "    def __len__(self):\n",
    "        return len(self.texts)\n",
    "    \n",
    "    def __getitem__(self, idx):\n",
    "        text = self.texts[idx]\n",
    "        label = self.labels[idx]\n",
    "        \n",
    "        # Tokenize and map to vocabulary indices\n",
    "        tokenized = [self.vocab.stoi.get(token, self.unk_idx) for token in text.split()]\n",
    "        return torch.tensor(tokenized, dtype=torch.long), label\n"
   ],
   "id": "4d1d4d3be61ec761",
   "outputs": [],
   "execution_count": 30
  },
  {
   "metadata": {
    "ExecuteTime": {
     "end_time": "2024-09-08T07:00:35.126183Z",
     "start_time": "2024-09-08T07:00:35.115105Z"
    }
   },
   "cell_type": "code",
   "source": [
    "# class SentimentDataset(Dataset):\n",
    "#     def __init__(self, texts, labels, vocab, max_len):\n",
    "#         self.texts = texts\n",
    "#         self.labels = torch.tensor(labels, dtype=torch.long)\n",
    "#         self.vocab = vocab\n",
    "#         self.max_len = max_len\n",
    "#     \n",
    "#     def __len__(self):\n",
    "#         return len(self.texts)\n",
    "#     \n",
    "#     def __getitem__(self, idx):\n",
    "#         text = self.texts[idx]\n",
    "#         label = self.labels[idx]\n",
    "#         \n",
    "#         # Tokenize and map to vocabulary indices\n",
    "#         tokenized = [self.vocab.stoi[token] for token in text.split()]\n",
    "#         return torch.tensor(tokenized, dtype=torch.long), label\n",
    "\n",
    "# class SentimentDataset(Dataset):\n",
    "#     def __init__(self, texts, labels, vocab, max_len):\n",
    "#         self.texts = texts\n",
    "#         self.labels = torch.tensor(labels, dtype=torch.long)\n",
    "#         self.vocab = vocab\n",
    "#         self.max_len = max_len\n",
    "#     \n",
    "#     def __len__(self):\n",
    "#         return len(self.texts)\n",
    "#     \n",
    "#     def __getitem__(self, idx):\n",
    "#         text = self.texts[idx]\n",
    "#         label = self.labels[idx]\n",
    "#         \n",
    "#         # Tokenize and map to vocabulary indices\n",
    "#         tokenized = [self.vocab.stoi.get(token, self.vocab.stoi['<unk>']) for token in text.split()]\n",
    "#         return torch.tensor(tokenized, dtype=torch.long), label\n"
   ],
   "id": "9ef930041cc3bb8",
   "outputs": [],
   "execution_count": 22
  },
  {
   "metadata": {
    "ExecuteTime": {
     "end_time": "2024-09-08T07:08:07.810455Z",
     "start_time": "2024-09-08T07:08:07.801239Z"
    }
   },
   "cell_type": "code",
   "source": [
    "# Use GloVe for the vocabulary\n",
    "# glove = GloVe(name='6B', dim=100)  # 100-dimensional GloVe vectors\n",
    "\n",
    "# Define max length for padding\n",
    "max_len = 100\n",
    "\n",
    "# Create datasets\n",
    "train_dataset = SentimentDataset(X_train, y_train, glove, max_len)\n",
    "test_dataset = SentimentDataset(X_test, y_test, glove, max_len)\n",
    "\n",
    "# Create DataLoaders\n",
    "batch_size = 32\n",
    "train_loader = DataLoader(train_dataset, batch_size=batch_size, shuffle=True, collate_fn=lambda x: pad_sequence([item[0] for item in x], batch_first=True, padding_value=0))\n",
    "test_loader = DataLoader(test_dataset, batch_size=batch_size, shuffle=False, collate_fn=lambda x: pad_sequence([item[0] for item in x], batch_first=True, padding_value=0))"
   ],
   "id": "b6511f0db2e90e",
   "outputs": [],
   "execution_count": 32
  },
  {
   "metadata": {
    "ExecuteTime": {
     "end_time": "2024-09-08T07:08:10.821861Z",
     "start_time": "2024-09-08T07:08:10.814061Z"
    }
   },
   "cell_type": "code",
   "source": [
    "class LSTMModel(nn.Module):\n",
    "    def __init__(self, vocab_size, embedding_dim, hidden_dim, output_dim):\n",
    "        super(LSTMModel, self).__init__()\n",
    "        self.embedding = nn.Embedding(vocab_size, embedding_dim)\n",
    "        self.lstm = nn.LSTM(embedding_dim, hidden_dim, batch_first=True)\n",
    "        self.fc = nn.Linear(hidden_dim, output_dim)\n",
    "        self.dropout = nn.Dropout(0.5)\n",
    "    \n",
    "    def forward(self, x):\n",
    "        embedded = self.embedding(x)\n",
    "        lstm_out, _ = self.lstm(embedded)\n",
    "        lstm_out = self.dropout(lstm_out[:, -1, :])  # Take the last hidden state\n",
    "        out = self.fc(lstm_out)\n",
    "        return out"
   ],
   "id": "f4b0a515ba5e7836",
   "outputs": [],
   "execution_count": 33
  },
  {
   "metadata": {
    "ExecuteTime": {
     "end_time": "2024-09-08T07:08:14.035972Z",
     "start_time": "2024-09-08T07:08:13.374609Z"
    }
   },
   "cell_type": "code",
   "source": [
    "vocab_size = len(glove.stoi)\n",
    "embedding_dim = 100\n",
    "hidden_dim = 128\n",
    "output_dim = 3  # Three sentiment classes\n",
    "\n",
    "model = LSTMModel(vocab_size, embedding_dim, hidden_dim, output_dim)\n",
    "\n",
    "# Initialize the embeddings with GloVe vectors\n",
    "model.embedding.weight.data.copy_(glove.vectors)\n",
    "\n",
    "# Loss function and optimizer\n",
    "criterion = nn.CrossEntropyLoss()\n",
    "optimizer = optim.Adam(model.parameters(), lr=0.001)\n"
   ],
   "id": "ce6efabb596ee878",
   "outputs": [],
   "execution_count": 34
  },
  {
   "metadata": {
    "ExecuteTime": {
     "end_time": "2024-09-08T07:08:16.517826Z",
     "start_time": "2024-09-08T07:08:16.449322Z"
    }
   },
   "cell_type": "code",
   "source": [
    "num_epochs = 10\n",
    "\n",
    "for epoch in range(num_epochs):\n",
    "    model.train()\n",
    "    epoch_loss = 0\n",
    "    epoch_acc = 0\n",
    "    \n",
    "    for batch in train_loader:\n",
    "        texts, labels = batch\n",
    "        optimizer.zero_grad()\n",
    "        predictions = model(texts)\n",
    "        loss = criterion(predictions, labels)\n",
    "        loss.backward()\n",
    "        optimizer.step()\n",
    "        epoch_loss += loss.item()\n",
    "    \n",
    "    print(f'Epoch {epoch+1}/{num_epochs}, Loss: {epoch_loss/len(train_loader):.4f}')"
   ],
   "id": "8a23600e78c6b974",
   "outputs": [
    {
     "ename": "ValueError",
     "evalue": "too many values to unpack (expected 2)",
     "output_type": "error",
     "traceback": [
      "\u001B[1;31m---------------------------------------------------------------------------\u001B[0m",
      "\u001B[1;31mValueError\u001B[0m                                Traceback (most recent call last)",
      "Cell \u001B[1;32mIn[35], line 9\u001B[0m\n\u001B[0;32m      6\u001B[0m epoch_acc \u001B[38;5;241m=\u001B[39m \u001B[38;5;241m0\u001B[39m\n\u001B[0;32m      8\u001B[0m \u001B[38;5;28;01mfor\u001B[39;00m batch \u001B[38;5;129;01min\u001B[39;00m train_loader:\n\u001B[1;32m----> 9\u001B[0m     texts, labels \u001B[38;5;241m=\u001B[39m batch\n\u001B[0;32m     10\u001B[0m     optimizer\u001B[38;5;241m.\u001B[39mzero_grad()\n\u001B[0;32m     11\u001B[0m     predictions \u001B[38;5;241m=\u001B[39m model(texts)\n",
      "\u001B[1;31mValueError\u001B[0m: too many values to unpack (expected 2)"
     ]
    }
   ],
   "execution_count": 35
  },
  {
   "metadata": {
    "ExecuteTime": {
     "end_time": "2024-09-08T07:08:23.524592Z",
     "start_time": "2024-09-08T07:08:23.482152Z"
    }
   },
   "cell_type": "code",
   "source": [
    "model.eval()\n",
    "test_loss = 0\n",
    "correct = 0\n",
    "\n",
    "with torch.no_grad():\n",
    "    for batch in test_loader:\n",
    "        texts, labels = batch\n",
    "        predictions = model(texts)\n",
    "        test_loss += criterion(predictions, labels).item()\n",
    "        _, predicted = torch.max(predictions, 1)\n",
    "        correct += (predicted == labels).sum().item()\n",
    "\n",
    "test_loss /= len(test_loader)\n",
    "accuracy = correct / len(test_dataset)\n",
    "\n",
    "print(f'Test Loss: {test_loss:.4f}, Test Accuracy: {accuracy:.4f}')"
   ],
   "id": "e6e7016ceb6eff1e",
   "outputs": [
    {
     "ename": "ValueError",
     "evalue": "too many values to unpack (expected 2)",
     "output_type": "error",
     "traceback": [
      "\u001B[1;31m---------------------------------------------------------------------------\u001B[0m",
      "\u001B[1;31mValueError\u001B[0m                                Traceback (most recent call last)",
      "Cell \u001B[1;32mIn[36], line 7\u001B[0m\n\u001B[0;32m      5\u001B[0m \u001B[38;5;28;01mwith\u001B[39;00m torch\u001B[38;5;241m.\u001B[39mno_grad():\n\u001B[0;32m      6\u001B[0m     \u001B[38;5;28;01mfor\u001B[39;00m batch \u001B[38;5;129;01min\u001B[39;00m test_loader:\n\u001B[1;32m----> 7\u001B[0m         texts, labels \u001B[38;5;241m=\u001B[39m batch\n\u001B[0;32m      8\u001B[0m         predictions \u001B[38;5;241m=\u001B[39m model(texts)\n\u001B[0;32m      9\u001B[0m         test_loss \u001B[38;5;241m+\u001B[39m\u001B[38;5;241m=\u001B[39m criterion(predictions, labels)\u001B[38;5;241m.\u001B[39mitem()\n",
      "\u001B[1;31mValueError\u001B[0m: too many values to unpack (expected 2)"
     ]
    }
   ],
   "execution_count": 36
  },
  {
   "metadata": {},
   "cell_type": "code",
   "outputs": [],
   "execution_count": null,
   "source": "",
   "id": "7d07832e9e1a49ac"
  }
 ],
 "metadata": {
  "kernelspec": {
   "display_name": "Python 3",
   "language": "python",
   "name": "python3"
  },
  "language_info": {
   "codemirror_mode": {
    "name": "ipython",
    "version": 2
   },
   "file_extension": ".py",
   "mimetype": "text/x-python",
   "name": "python",
   "nbconvert_exporter": "python",
   "pygments_lexer": "ipython2",
   "version": "2.7.6"
  }
 },
 "nbformat": 4,
 "nbformat_minor": 5
}
