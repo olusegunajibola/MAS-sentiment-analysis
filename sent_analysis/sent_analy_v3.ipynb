{
 "cells": [
  {
   "cell_type": "markdown",
   "id": "367edc3828bf028e",
   "metadata": {},
   "source": [
    "# Sentiment Analysis of Financial News\n",
    "\n",
    "The data source is available at [Kaggle](https://www.kaggle.com/datasets/ankurzing/sentiment-analysis-for-financial-news?resource=download). \n",
    "\n",
    "**Context**: This dataset (FinancialPhraseBank) contains the sentiments for financial news headlines from the perspective of a retail investor.\n",
    "\n",
    "This time we try to use DistilBERT Embeddings with LSTM."
   ]
  },
  {
   "cell_type": "code",
   "id": "initial_id",
   "metadata": {
    "collapsed": true,
    "jupyter": {
     "outputs_hidden": true
    },
    "ExecuteTime": {
     "end_time": "2024-11-21T10:48:45.938152Z",
     "start_time": "2024-11-21T10:48:31.399437Z"
    }
   },
   "source": [
    "import plot_pie\n",
    "\n",
    "import time\n",
    "import os\n",
    "\n",
    "import pandas as pd\n",
    "import numpy as np\n",
    "\n",
    "import matplotlib.pyplot as plt\n",
    "import seaborn as sns\n",
    "\n",
    "import nltk\n",
    "from nltk.tokenize import word_tokenize\n",
    "from nltk.corpus import stopwords\n",
    "# nltk.download('stopwords')\n",
    "# nltk.download('punkt')\n",
    "\n",
    "import transformers # transformers library by Hugging Face\n",
    "from transformers import MarianMTModel, pipeline\n",
    "\n",
    "import torch\n",
    "import torch.nn as nn\n",
    "import torch.optim as optim\n",
    "from torch.utils.data import Dataset, DataLoader\n",
    "from torch.nn.utils.rnn import pad_sequence\n",
    "\n",
    "\n",
    "# from torchtext.vocab import GloVe\n",
    "# from torchtext.data.utils import get_tokenizer\n",
    "\n",
    "from sklearn.model_selection import train_test_split, GridSearchCV, cross_val_score\n",
    "from sklearn.preprocessing import LabelEncoder\n",
    "from sklearn.metrics import accuracy_score, precision_recall_fscore_support, confusion_matrix, ConfusionMatrixDisplay,  precision_score, recall_score, f1_score, classification_report\n",
    "from sklearn.linear_model import LogisticRegression\n",
    "from sklearn.feature_extraction.text import CountVectorizer\n",
    "from sklearn.naive_bayes import MultinomialNB\n",
    "\n",
    "from textblob import TextBlob\n",
    "\n",
    "import string\n",
    "\n",
    "import pickle\n",
    "import joblib"
   ],
   "outputs": [],
   "execution_count": 1
  },
  {
   "cell_type": "markdown",
   "id": "4ba8ffb939638db1",
   "metadata": {},
   "source": [
    "We first do a GPU check."
   ]
  },
  {
   "cell_type": "code",
   "id": "16d482c772a3ab74",
   "metadata": {
    "ExecuteTime": {
     "end_time": "2024-11-21T10:48:46.630195Z",
     "start_time": "2024-11-21T10:48:45.962137Z"
    }
   },
   "source": [
    "print(torch.version.cuda)\n",
    "print(torch.cuda.is_available())  # Should return True if CUDA is available\n",
    "print(torch.cuda.device_count())\n",
    "print(torch.cuda.current_device())\n",
    "print(torch.cuda.get_device_name(torch.cuda.current_device()))"
   ],
   "outputs": [
    {
     "name": "stdout",
     "output_type": "stream",
     "text": [
      "12.4\n",
      "True\n",
      "1\n",
      "0\n",
      "NVIDIA GeForce GTX 960M\n"
     ]
    }
   ],
   "execution_count": 2
  },
  {
   "cell_type": "code",
   "id": "e2e6e0d8fd7ecaec",
   "metadata": {
    "ExecuteTime": {
     "end_time": "2024-11-21T10:48:46.820089Z",
     "start_time": "2024-11-21T10:48:46.806470Z"
    }
   },
   "source": [
    "os.getcwd()"
   ],
   "outputs": [
    {
     "data": {
      "text/plain": [
       "'D:\\\\Data\\\\PyCharmProjects\\\\MAS-sentiment-analysis\\\\sent_analysis'"
      ]
     },
     "execution_count": 3,
     "metadata": {},
     "output_type": "execute_result"
    }
   ],
   "execution_count": 3
  },
  {
   "metadata": {
    "ExecuteTime": {
     "end_time": "2024-11-21T10:48:46.960427Z",
     "start_time": "2024-11-21T10:48:46.878014Z"
    }
   },
   "cell_type": "code",
   "source": [
    "data = pd.read_csv(\"D:\\Data\\PyCharmProjects\\MAS-sentiment-analysis\\data/balanced_all_clean_v1.csv\")\n",
    "data.dropna(inplace=True)\n",
    "# Encode the sentiment labels to integers\n",
    "label_encoder = LabelEncoder()\n",
    "data['sentiment_encoded'] = label_encoder.fit_transform(data['sentiment'])\n",
    "data.info()"
   ],
   "id": "4679926de37ffb79",
   "outputs": [
    {
     "name": "stdout",
     "output_type": "stream",
     "text": [
      "<class 'pandas.core.frame.DataFrame'>\n",
      "Index: 8020 entries, 0 to 8020\n",
      "Data columns (total 3 columns):\n",
      " #   Column             Non-Null Count  Dtype \n",
      "---  ------             --------------  ----- \n",
      " 0   sentiment          8020 non-null   object\n",
      " 1   news               8020 non-null   object\n",
      " 2   sentiment_encoded  8020 non-null   int32 \n",
      "dtypes: int32(1), object(2)\n",
      "memory usage: 219.3+ KB\n"
     ]
    }
   ],
   "execution_count": 4
  },
  {
   "cell_type": "markdown",
   "id": "5180d7878a80156a",
   "metadata": {},
   "source": "# Model"
  },
  {
   "cell_type": "markdown",
   "id": "39d546aff8c3fafa",
   "metadata": {},
   "source": "## DistilBERT & LSTM"
  },
  {
   "cell_type": "markdown",
   "id": "c124be640307f677",
   "metadata": {},
   "source": "The DistilBERT processes the input sentence and passes on the relevant information to the LSTM Model for sentiment classification. "
  },
  {
   "metadata": {},
   "cell_type": "markdown",
   "source": [
    "Define the LSTM Classifier:\n",
    "\n",
    "The LSTM classifier will take the DistilBERT embeddings (shape: [batch_size, seq_len, hidden_dim], i.e., [8020, 150, 768]) as input."
   ],
   "id": "a70a7eee525b95c5"
  },
  {
   "metadata": {
    "ExecuteTime": {
     "end_time": "2024-11-21T10:48:53.884022Z",
     "start_time": "2024-11-21T10:48:46.993033Z"
    }
   },
   "cell_type": "code",
   "source": [
    "# For DistilBERT:\n",
    "model_class, tokenizer_class, pretrained_weights = (transformers.DistilBertModel,\n",
    "                                                    transformers.DistilBertTokenizer,\n",
    "                                                    'distilbert-base-uncased')\n",
    "\n",
    "# Load pretrained model/tokenizer\n",
    "tokenizer = tokenizer_class.from_pretrained(pretrained_weights)\n",
    "model = model_class.from_pretrained(pretrained_weights)\n",
    "\n",
    "# tokenize all the reviews in column 0 of the dataframe \"df\"\n",
    "tokenized = data['news'].apply((lambda x: tokenizer.encode(x, add_special_tokens=True)))\n",
    "\n"
   ],
   "id": "fa14ace7937fbcde",
   "outputs": [],
   "execution_count": 5
  },
  {
   "metadata": {
    "ExecuteTime": {
     "end_time": "2024-11-21T10:48:53.939531Z",
     "start_time": "2024-11-21T10:48:53.915852Z"
    }
   },
   "cell_type": "code",
   "source": [
    "def visualized_sentence_embedding(df: pd.DataFrame, tokenized: pd.Series) -> pd.DataFrame:\n",
    "    \"\"\"\n",
    "    Function to see tokens and embeddings of the first review in df.\n",
    "    \"\"\"\n",
    "    tokens = data.iloc[0,1].split(\" \")\n",
    "    tokens.insert(0, \"CLS\")\n",
    "    tokens.append(\"SEP\")\n",
    "    assert len(tokens) == len(tokenized[0])\n",
    "    token_embeddings = list(zip(tokens, tokenized[0]))\n",
    "    df_token_embeddings = pd.DataFrame(token_embeddings, columns=[\"Tokens\", \"Embeddings\"])\n",
    "    return df_token_embeddings\n",
    "\n",
    "df_token_embeddings = visualized_sentence_embedding(data, tokenized)\n",
    "df_token_embeddings.head(500)"
   ],
   "id": "161956c8f8730ef9",
   "outputs": [
    {
     "data": {
      "text/plain": [
       "        Tokens  Embeddings\n",
       "0          CLS         101\n",
       "1    According        2429\n",
       "2           to        2000\n",
       "3         Gran       12604\n",
       "4            ,        1010\n",
       "5          the        1996\n",
       "6      company        2194\n",
       "7          has        2038\n",
       "8           no        2053\n",
       "9        plans        3488\n",
       "10          to        2000\n",
       "11        move        2693\n",
       "12         all        2035\n",
       "13  production        2537\n",
       "14          to        2000\n",
       "15      Russia        3607\n",
       "16           ,        1010\n",
       "17    although        2348\n",
       "18        that        2008\n",
       "19          is        2003\n",
       "20       where        2073\n",
       "21         the        1996\n",
       "22     company        2194\n",
       "23          is        2003\n",
       "24     growing        3652\n",
       "25           .        1012\n",
       "26         SEP         102"
      ],
      "text/html": [
       "<div>\n",
       "<style scoped>\n",
       "    .dataframe tbody tr th:only-of-type {\n",
       "        vertical-align: middle;\n",
       "    }\n",
       "\n",
       "    .dataframe tbody tr th {\n",
       "        vertical-align: top;\n",
       "    }\n",
       "\n",
       "    .dataframe thead th {\n",
       "        text-align: right;\n",
       "    }\n",
       "</style>\n",
       "<table border=\"1\" class=\"dataframe\">\n",
       "  <thead>\n",
       "    <tr style=\"text-align: right;\">\n",
       "      <th></th>\n",
       "      <th>Tokens</th>\n",
       "      <th>Embeddings</th>\n",
       "    </tr>\n",
       "  </thead>\n",
       "  <tbody>\n",
       "    <tr>\n",
       "      <th>0</th>\n",
       "      <td>CLS</td>\n",
       "      <td>101</td>\n",
       "    </tr>\n",
       "    <tr>\n",
       "      <th>1</th>\n",
       "      <td>According</td>\n",
       "      <td>2429</td>\n",
       "    </tr>\n",
       "    <tr>\n",
       "      <th>2</th>\n",
       "      <td>to</td>\n",
       "      <td>2000</td>\n",
       "    </tr>\n",
       "    <tr>\n",
       "      <th>3</th>\n",
       "      <td>Gran</td>\n",
       "      <td>12604</td>\n",
       "    </tr>\n",
       "    <tr>\n",
       "      <th>4</th>\n",
       "      <td>,</td>\n",
       "      <td>1010</td>\n",
       "    </tr>\n",
       "    <tr>\n",
       "      <th>5</th>\n",
       "      <td>the</td>\n",
       "      <td>1996</td>\n",
       "    </tr>\n",
       "    <tr>\n",
       "      <th>6</th>\n",
       "      <td>company</td>\n",
       "      <td>2194</td>\n",
       "    </tr>\n",
       "    <tr>\n",
       "      <th>7</th>\n",
       "      <td>has</td>\n",
       "      <td>2038</td>\n",
       "    </tr>\n",
       "    <tr>\n",
       "      <th>8</th>\n",
       "      <td>no</td>\n",
       "      <td>2053</td>\n",
       "    </tr>\n",
       "    <tr>\n",
       "      <th>9</th>\n",
       "      <td>plans</td>\n",
       "      <td>3488</td>\n",
       "    </tr>\n",
       "    <tr>\n",
       "      <th>10</th>\n",
       "      <td>to</td>\n",
       "      <td>2000</td>\n",
       "    </tr>\n",
       "    <tr>\n",
       "      <th>11</th>\n",
       "      <td>move</td>\n",
       "      <td>2693</td>\n",
       "    </tr>\n",
       "    <tr>\n",
       "      <th>12</th>\n",
       "      <td>all</td>\n",
       "      <td>2035</td>\n",
       "    </tr>\n",
       "    <tr>\n",
       "      <th>13</th>\n",
       "      <td>production</td>\n",
       "      <td>2537</td>\n",
       "    </tr>\n",
       "    <tr>\n",
       "      <th>14</th>\n",
       "      <td>to</td>\n",
       "      <td>2000</td>\n",
       "    </tr>\n",
       "    <tr>\n",
       "      <th>15</th>\n",
       "      <td>Russia</td>\n",
       "      <td>3607</td>\n",
       "    </tr>\n",
       "    <tr>\n",
       "      <th>16</th>\n",
       "      <td>,</td>\n",
       "      <td>1010</td>\n",
       "    </tr>\n",
       "    <tr>\n",
       "      <th>17</th>\n",
       "      <td>although</td>\n",
       "      <td>2348</td>\n",
       "    </tr>\n",
       "    <tr>\n",
       "      <th>18</th>\n",
       "      <td>that</td>\n",
       "      <td>2008</td>\n",
       "    </tr>\n",
       "    <tr>\n",
       "      <th>19</th>\n",
       "      <td>is</td>\n",
       "      <td>2003</td>\n",
       "    </tr>\n",
       "    <tr>\n",
       "      <th>20</th>\n",
       "      <td>where</td>\n",
       "      <td>2073</td>\n",
       "    </tr>\n",
       "    <tr>\n",
       "      <th>21</th>\n",
       "      <td>the</td>\n",
       "      <td>1996</td>\n",
       "    </tr>\n",
       "    <tr>\n",
       "      <th>22</th>\n",
       "      <td>company</td>\n",
       "      <td>2194</td>\n",
       "    </tr>\n",
       "    <tr>\n",
       "      <th>23</th>\n",
       "      <td>is</td>\n",
       "      <td>2003</td>\n",
       "    </tr>\n",
       "    <tr>\n",
       "      <th>24</th>\n",
       "      <td>growing</td>\n",
       "      <td>3652</td>\n",
       "    </tr>\n",
       "    <tr>\n",
       "      <th>25</th>\n",
       "      <td>.</td>\n",
       "      <td>1012</td>\n",
       "    </tr>\n",
       "    <tr>\n",
       "      <th>26</th>\n",
       "      <td>SEP</td>\n",
       "      <td>102</td>\n",
       "    </tr>\n",
       "  </tbody>\n",
       "</table>\n",
       "</div>"
      ]
     },
     "execution_count": 6,
     "metadata": {},
     "output_type": "execute_result"
    }
   ],
   "execution_count": 6
  },
  {
   "metadata": {
    "ExecuteTime": {
     "end_time": "2024-11-21T10:48:54.198848Z",
     "start_time": "2024-11-21T10:48:54.060037Z"
    }
   },
   "cell_type": "code",
   "source": [
    "max_len = 0\n",
    "max_len = max([len(i) for i in tokenized.values if len(i) > max_len])\n",
    "padded_token_embeddings = np.array([i + [0]*(max_len-len(i)) for i in tokenized.values])\n",
    "print(max_len)\n",
    "print(padded_token_embeddings.shape)\n",
    "\n",
    "attention_mask = np.where(padded_token_embeddings != 0, 1, 0)\n",
    "assert attention_mask.shape == padded_token_embeddings.shape\n",
    "print(attention_mask.shape)"
   ],
   "id": "5a4f23c412aabba6",
   "outputs": [
    {
     "name": "stdout",
     "output_type": "stream",
     "text": [
      "150\n",
      "(8020, 150)\n",
      "(8020, 150)\n"
     ]
    }
   ],
   "execution_count": 7
  },
  {
   "metadata": {
    "ExecuteTime": {
     "end_time": "2024-11-21T10:48:54.571516Z",
     "start_time": "2024-11-21T10:48:54.318451Z"
    }
   },
   "cell_type": "code",
   "source": [
    "# move model and data to gpu\n",
    "device = torch.device('cuda' if torch.cuda.is_available() else 'cpu')\n",
    "print(device)\n",
    "\n",
    "torch.cuda.empty_cache()\n",
    "\n",
    "model.to(device)  # Move the model to the GPU"
   ],
   "id": "c9bfd0fe98bfdb89",
   "outputs": [
    {
     "name": "stdout",
     "output_type": "stream",
     "text": [
      "cuda\n"
     ]
    },
    {
     "data": {
      "text/plain": [
       "DistilBertModel(\n",
       "  (embeddings): Embeddings(\n",
       "    (word_embeddings): Embedding(30522, 768, padding_idx=0)\n",
       "    (position_embeddings): Embedding(512, 768)\n",
       "    (LayerNorm): LayerNorm((768,), eps=1e-12, elementwise_affine=True)\n",
       "    (dropout): Dropout(p=0.1, inplace=False)\n",
       "  )\n",
       "  (transformer): Transformer(\n",
       "    (layer): ModuleList(\n",
       "      (0-5): 6 x TransformerBlock(\n",
       "        (attention): MultiHeadSelfAttention(\n",
       "          (dropout): Dropout(p=0.1, inplace=False)\n",
       "          (q_lin): Linear(in_features=768, out_features=768, bias=True)\n",
       "          (k_lin): Linear(in_features=768, out_features=768, bias=True)\n",
       "          (v_lin): Linear(in_features=768, out_features=768, bias=True)\n",
       "          (out_lin): Linear(in_features=768, out_features=768, bias=True)\n",
       "        )\n",
       "        (sa_layer_norm): LayerNorm((768,), eps=1e-12, elementwise_affine=True)\n",
       "        (ffn): FFN(\n",
       "          (dropout): Dropout(p=0.1, inplace=False)\n",
       "          (lin1): Linear(in_features=768, out_features=3072, bias=True)\n",
       "          (lin2): Linear(in_features=3072, out_features=768, bias=True)\n",
       "          (activation): GELUActivation()\n",
       "        )\n",
       "        (output_layer_norm): LayerNorm((768,), eps=1e-12, elementwise_affine=True)\n",
       "      )\n",
       "    )\n",
       "  )\n",
       ")"
      ]
     },
     "execution_count": 8,
     "metadata": {},
     "output_type": "execute_result"
    }
   ],
   "execution_count": 8
  },
  {
   "metadata": {
    "ExecuteTime": {
     "end_time": "2024-11-21T10:48:54.627950Z",
     "start_time": "2024-11-21T10:48:54.605515Z"
    }
   },
   "cell_type": "code",
   "source": [
    "batch_size = 8  # Adjust this to a smaller number that fits your GPU memory\n",
    "\n",
    "input_ids = torch.tensor(padded_token_embeddings)\n",
    "attention_mask = torch.tensor(attention_mask)\n",
    "\n",
    "# Assuming you have your input_ids and attention_mask tensors\n",
    "input_ids_batches = torch.split(input_ids, batch_size)\n",
    "attention_mask_batches = torch.split(attention_mask, batch_size)"
   ],
   "id": "b5ca0d6856b866a7",
   "outputs": [],
   "execution_count": 9
  },
  {
   "metadata": {
    "ExecuteTime": {
     "end_time": "2024-11-21T10:51:33.107979Z",
     "start_time": "2024-11-21T10:48:54.697714Z"
    }
   },
   "cell_type": "code",
   "source": [
    "last_hidden_states = []\n",
    "start = time.time()\n",
    "\n",
    "with torch.no_grad():\n",
    "    for input_ids_batch, attention_mask_batch in zip(input_ids_batches, attention_mask_batches):\n",
    "        outputs = model(input_ids_batch.to(device), attention_mask=attention_mask_batch.to(device))\n",
    "        last_hidden_states.append(outputs[0].cpu())  # Move outputs to CPU to free GPU memory\n",
    "\n",
    "end = time.time()\n",
    "print(round((end - start)/60, 2), 'minutes') # time in minutes\n",
    "last_hidden_states = torch.cat(last_hidden_states, dim=0)"
   ],
   "id": "91ba50853da34310",
   "outputs": [
    {
     "name": "stdout",
     "output_type": "stream",
     "text": [
      "2.59 minutes\n"
     ]
    }
   ],
   "execution_count": 10
  },
  {
   "metadata": {
    "ExecuteTime": {
     "end_time": "2024-11-21T10:51:33.941851Z",
     "start_time": "2024-11-21T10:51:33.922849Z"
    }
   },
   "cell_type": "code",
   "source": "last_hidden_states.shape",
   "id": "af5f4a62d6812ff3",
   "outputs": [
    {
     "data": {
      "text/plain": [
       "torch.Size([8020, 150, 768])"
      ]
     },
     "execution_count": 11,
     "metadata": {},
     "output_type": "execute_result"
    }
   ],
   "execution_count": 11
  },
  {
   "metadata": {
    "ExecuteTime": {
     "end_time": "2024-11-21T10:59:46.733900Z",
     "start_time": "2024-11-21T10:59:46.726064Z"
    }
   },
   "cell_type": "code",
   "source": [
    "# extracting features and labels\n",
    "# features = last_hidden_states[:,0,:].numpy()\n",
    "features = last_hidden_states\n",
    "print(features.shape)"
   ],
   "id": "5a1bc2a9c5daf7c9",
   "outputs": [
    {
     "name": "stdout",
     "output_type": "stream",
     "text": [
      "torch.Size([8020, 150, 768])\n"
     ]
    }
   ],
   "execution_count": 48
  },
  {
   "metadata": {
    "ExecuteTime": {
     "end_time": "2024-11-21T10:59:56.621989Z",
     "start_time": "2024-11-21T10:59:56.611250Z"
    }
   },
   "cell_type": "code",
   "source": [
    "class LSTMClassifier(nn.Module):\n",
    "    def __init__(self, input_dim, hidden_dim, output_dim):\n",
    "        super(LSTMClassifier, self).__init__()\n",
    "        self.lstm = nn.LSTM(input_dim, hidden_dim, batch_first=True)\n",
    "        self.fc = nn.Linear(hidden_dim, output_dim)\n",
    "        self.dropout = nn.Dropout(0.5)\n",
    "    \n",
    "    def forward(self, x):\n",
    "        lstm_out, _ = self.lstm(x)  # LSTM output\n",
    "        lstm_out = self.dropout(lstm_out[:, -1, :])  # Use the last hidden state\n",
    "        out = self.fc(lstm_out)  # Fully connected layer for classification\n",
    "        return out"
   ],
   "id": "60ca5a7c4a698a9b",
   "outputs": [],
   "execution_count": 49
  },
  {
   "metadata": {
    "ExecuteTime": {
     "end_time": "2024-11-21T11:00:02.671855Z",
     "start_time": "2024-11-21T11:00:02.637659Z"
    }
   },
   "cell_type": "code",
   "source": [
    "# Set dimensions for LSTM\n",
    "hidden_dim = 128  # Number of hidden units in the LSTM\n",
    "output_dim = 3    # Number of sentiment classes: Positive, Neutral, Negative\n",
    "input_dim = 768   # Match DistilBERT's hidden size\n",
    "\n",
    "# Initialize LSTM classifier\n",
    "lstm_model = LSTMClassifier(input_dim, hidden_dim, output_dim)"
   ],
   "id": "515887fbc505bb17",
   "outputs": [],
   "execution_count": 50
  },
  {
   "metadata": {
    "ExecuteTime": {
     "end_time": "2024-11-21T11:00:04.300263Z",
     "start_time": "2024-11-21T11:00:04.293649Z"
    }
   },
   "cell_type": "code",
   "source": [
    "labels = data['sentiment_encoded']\n",
    "assert len(features) == len(labels)"
   ],
   "id": "38a5f4163173b46c",
   "outputs": [],
   "execution_count": 51
  },
  {
   "metadata": {
    "ExecuteTime": {
     "end_time": "2024-11-21T11:00:26.106369Z",
     "start_time": "2024-11-21T11:00:06.704730Z"
    }
   },
   "cell_type": "code",
   "source": "train_features, test_features, train_labels, test_labels = train_test_split(features, labels, test_size=0.2, random_state=42)",
   "id": "38e3444d1fed42b0",
   "outputs": [],
   "execution_count": 52
  },
  {
   "metadata": {
    "ExecuteTime": {
     "end_time": "2024-11-21T11:00:29.006390Z",
     "start_time": "2024-11-21T11:00:28.989283Z"
    }
   },
   "cell_type": "code",
   "source": [
    "# Convert data to DataLoader format\n",
    "from torch.utils.data import DataLoader, TensorDataset\n",
    "import torch\n",
    "\n",
    "batch_size = 32"
   ],
   "id": "8994988a1bc6fe51",
   "outputs": [],
   "execution_count": 53
  },
  {
   "metadata": {
    "ExecuteTime": {
     "end_time": "2024-11-21T11:02:10.617489Z",
     "start_time": "2024-11-21T11:02:10.603973Z"
    }
   },
   "cell_type": "code",
   "source": [
    "train_labels_array = train_labels.to_numpy()  # or use train_labels.values\n",
    "test_labels_array = test_labels.to_numpy()\n",
    "\n",
    "# Convert labels to tensors with dtype=torch.long\n",
    "train_dataset = TensorDataset(train_features, torch.tensor(train_labels_array, dtype=torch.long))\n",
    "test_dataset = TensorDataset(test_features, torch.tensor(test_labels_array, dtype=torch.long))\n",
    "\n",
    "print(\"Datasets created successfully.\")"
   ],
   "id": "ae3aa367fb2ec8f6",
   "outputs": [
    {
     "name": "stdout",
     "output_type": "stream",
     "text": [
      "Datasets created successfully.\n"
     ]
    }
   ],
   "execution_count": 56
  },
  {
   "metadata": {
    "ExecuteTime": {
     "end_time": "2024-11-21T11:02:16.637257Z",
     "start_time": "2024-11-21T11:02:16.632067Z"
    }
   },
   "cell_type": "code",
   "source": [
    "# # Convert tensors\n",
    "# train_dataset = TensorDataset(train_features, torch.tensor(train_labels, dtype=torch.long))\n",
    "# test_dataset = TensorDataset(test_features, torch.tensor(test_labels, dtype=torch.long))"
   ],
   "id": "954e037c040db964",
   "outputs": [],
   "execution_count": 57
  },
  {
   "metadata": {
    "ExecuteTime": {
     "end_time": "2024-11-21T11:02:18.341148Z",
     "start_time": "2024-11-21T11:02:18.318298Z"
    }
   },
   "cell_type": "code",
   "source": [
    "# DataLoaders\n",
    "train_loader = DataLoader(train_dataset, batch_size=batch_size, shuffle=True)\n",
    "test_loader = DataLoader(test_dataset, batch_size=batch_size, shuffle=False)"
   ],
   "id": "5d4db45441da6c82",
   "outputs": [],
   "execution_count": 58
  },
  {
   "metadata": {},
   "cell_type": "markdown",
   "source": "Training the LSTM model",
   "id": "6758232f11b29dc4"
  },
  {
   "metadata": {
    "ExecuteTime": {
     "end_time": "2024-11-21T12:27:26.256056Z",
     "start_time": "2024-11-21T11:07:15.520362Z"
    }
   },
   "cell_type": "code",
   "source": [
    "%%timeit\n",
    "import torch.optim as optim\n",
    "\n",
    "criterion = nn.CrossEntropyLoss()\n",
    "optimizer = optim.Adam(lstm_model.parameters(), lr=0.001)\n",
    "\n",
    "# Move model to GPU if available\n",
    "device = torch.device('cuda' if torch.cuda.is_available() else 'cpu')\n",
    "lstm_model.to(device)\n",
    "\n",
    "# Training loop\n",
    "num_epochs = 100\n",
    "for epoch in range(num_epochs):\n",
    "    lstm_model.train()\n",
    "    epoch_loss = 0\n",
    "    \n",
    "    for inputs, labels in train_loader:\n",
    "        inputs, labels = inputs.to(device), labels.to(device)\n",
    "        \n",
    "        # Forward pass\n",
    "        optimizer.zero_grad()\n",
    "        outputs = lstm_model(inputs)\n",
    "        loss = criterion(outputs, labels)\n",
    "        \n",
    "        # Backward pass\n",
    "        loss.backward()\n",
    "        optimizer.step()\n",
    "        \n",
    "        epoch_loss += loss.item()\n",
    "    \n",
    "    # Print only for the first epoch and every 10 epochs\n",
    "    if epoch == 0 or (epoch + 1) % 10 == 0:\n",
    "        print(f'Epoch {epoch+1}/{num_epochs}, Loss: {epoch_loss/len(train_loader):.4f}')\n"
   ],
   "id": "8a2ee360e749da83",
   "outputs": [
    {
     "name": "stdout",
     "output_type": "stream",
     "text": [
      "Epoch 1/100, Loss: 0.2074\n",
      "Epoch 10/100, Loss: 0.0687\n",
      "Epoch 20/100, Loss: 0.0405\n",
      "Epoch 30/100, Loss: 0.0250\n",
      "Epoch 40/100, Loss: 0.0135\n",
      "Epoch 50/100, Loss: 0.0147\n",
      "Epoch 60/100, Loss: 0.0304\n",
      "Epoch 70/100, Loss: 0.0218\n",
      "Epoch 80/100, Loss: 0.0195\n",
      "Epoch 90/100, Loss: 0.0148\n",
      "Epoch 100/100, Loss: 0.0219\n",
      "Epoch 1/100, Loss: 0.0139\n",
      "Epoch 10/100, Loss: 0.0153\n",
      "Epoch 20/100, Loss: 0.0224\n",
      "Epoch 30/100, Loss: 0.0089\n",
      "Epoch 40/100, Loss: 0.0079\n",
      "Epoch 50/100, Loss: 0.0012\n",
      "Epoch 60/100, Loss: 0.0155\n",
      "Epoch 70/100, Loss: 0.0252\n",
      "Epoch 80/100, Loss: 0.0031\n",
      "Epoch 90/100, Loss: 0.0029\n",
      "Epoch 100/100, Loss: 0.0015\n",
      "Epoch 1/100, Loss: 0.0159\n",
      "Epoch 10/100, Loss: 0.0017\n",
      "Epoch 20/100, Loss: 0.0102\n",
      "Epoch 30/100, Loss: 0.0027\n",
      "Epoch 40/100, Loss: 0.0010\n",
      "Epoch 50/100, Loss: 0.0011\n",
      "Epoch 60/100, Loss: 0.0014\n",
      "Epoch 70/100, Loss: 0.0079\n",
      "Epoch 80/100, Loss: 0.0196\n",
      "Epoch 90/100, Loss: 0.0005\n",
      "Epoch 100/100, Loss: 0.0168\n",
      "Epoch 1/100, Loss: 0.0064\n",
      "Epoch 10/100, Loss: 0.0009\n",
      "Epoch 20/100, Loss: 0.0009\n",
      "Epoch 30/100, Loss: 0.0049\n",
      "Epoch 40/100, Loss: 0.0015\n",
      "Epoch 50/100, Loss: 0.0155\n",
      "Epoch 60/100, Loss: 0.0003\n",
      "Epoch 70/100, Loss: 0.0016\n",
      "Epoch 80/100, Loss: 0.0001\n",
      "Epoch 90/100, Loss: 0.0003\n",
      "Epoch 100/100, Loss: 0.0014\n",
      "Epoch 1/100, Loss: 0.0130\n",
      "Epoch 10/100, Loss: 0.0008\n",
      "Epoch 20/100, Loss: 0.0009\n",
      "Epoch 30/100, Loss: 0.0004\n",
      "Epoch 40/100, Loss: 0.0001\n",
      "Epoch 50/100, Loss: 0.0010\n",
      "Epoch 60/100, Loss: 0.0067\n",
      "Epoch 70/100, Loss: 0.0002\n",
      "Epoch 80/100, Loss: 0.0006\n",
      "Epoch 90/100, Loss: 0.0069\n",
      "Epoch 100/100, Loss: 0.0004\n",
      "Epoch 1/100, Loss: 0.0069\n",
      "Epoch 10/100, Loss: 0.0004\n",
      "Epoch 20/100, Loss: 0.0001\n",
      "Epoch 30/100, Loss: 0.0013\n",
      "Epoch 40/100, Loss: 0.0094\n",
      "Epoch 50/100, Loss: 0.0002\n",
      "Epoch 60/100, Loss: 0.0004\n",
      "Epoch 70/100, Loss: 0.0002\n",
      "Epoch 80/100, Loss: 0.0001\n",
      "Epoch 90/100, Loss: 0.0005\n",
      "Epoch 100/100, Loss: 0.0081\n",
      "Epoch 1/100, Loss: 0.0060\n",
      "Epoch 10/100, Loss: 0.0004\n",
      "Epoch 20/100, Loss: 0.0002\n",
      "Epoch 30/100, Loss: 0.0168\n",
      "Epoch 40/100, Loss: 0.0009\n",
      "Epoch 50/100, Loss: 0.0002\n",
      "Epoch 60/100, Loss: 0.0058\n",
      "Epoch 70/100, Loss: 0.0003\n",
      "Epoch 80/100, Loss: 0.0196\n",
      "Epoch 90/100, Loss: 0.0006\n",
      "Epoch 100/100, Loss: 0.0167\n",
      "Epoch 1/100, Loss: 0.0111\n",
      "Epoch 10/100, Loss: 0.0001\n",
      "Epoch 20/100, Loss: 0.0154\n",
      "Epoch 30/100, Loss: 0.0049\n",
      "Epoch 40/100, Loss: 0.0007\n",
      "Epoch 50/100, Loss: 0.0002\n",
      "Epoch 60/100, Loss: 0.0000\n",
      "Epoch 70/100, Loss: 0.0002\n",
      "Epoch 80/100, Loss: 0.0003\n",
      "Epoch 90/100, Loss: 0.0117\n",
      "Epoch 100/100, Loss: 0.0002\n",
      "10min ± 2.57 s per loop (mean ± std. dev. of 7 runs, 1 loop each)\n"
     ]
    }
   ],
   "execution_count": 60
  },
  {
   "metadata": {
    "ExecuteTime": {
     "end_time": "2024-11-21T12:47:32.008766Z",
     "start_time": "2024-11-21T12:47:31.997698Z"
    }
   },
   "cell_type": "code",
   "source": "print(\"ran in 1hr 20mins\")",
   "id": "ef17641e7b5749d0",
   "outputs": [
    {
     "name": "stdout",
     "output_type": "stream",
     "text": [
      "ran in 1hr 20mins\n"
     ]
    }
   ],
   "execution_count": 61
  },
  {
   "metadata": {},
   "cell_type": "markdown",
   "source": "Evaluate the LSTM model",
   "id": "2887ebaceb69c542"
  },
  {
   "metadata": {
    "ExecuteTime": {
     "end_time": "2024-11-21T12:59:16.057019Z",
     "start_time": "2024-11-21T12:59:16.050022Z"
    }
   },
   "cell_type": "code",
   "source": "print(lstm_model)",
   "id": "bc1c294abb763fd6",
   "outputs": [
    {
     "name": "stdout",
     "output_type": "stream",
     "text": [
      "LSTMClassifier(\n",
      "  (lstm): LSTM(768, 128, batch_first=True)\n",
      "  (fc): Linear(in_features=128, out_features=3, bias=True)\n",
      "  (dropout): Dropout(p=0.5, inplace=False)\n",
      ")\n"
     ]
    }
   ],
   "execution_count": 74
  },
  {
   "metadata": {
    "ExecuteTime": {
     "end_time": "2024-11-21T12:54:00.528195Z",
     "start_time": "2024-11-21T12:54:00.522341Z"
    }
   },
   "cell_type": "code",
   "source": [
    "from sklearn.metrics import accuracy_score, classification_report\n",
    "\n",
    "lstm_model.eval()\n",
    "all_predictions = []\n",
    "all_labels = []\n",
    "\n",
    "with torch.no_grad():\n",
    "    for inputs, labels in test_loader:\n",
    "        inputs, labels = inputs.to(device), labels.to(device)\n",
    "        outputs = lstm_model(inputs)\n",
    "        _, predicted = torch.max(outputs, 1)\n",
    "        all_predictions.extend(predicted.cpu().numpy())\n",
    "        all_labels.extend(labels.cpu().numpy())\n"
   ],
   "id": "86719668bb039ef6",
   "outputs": [],
   "execution_count": 72
  },
  {
   "metadata": {
    "ExecuteTime": {
     "end_time": "2024-11-21T12:53:52.524274Z",
     "start_time": "2024-11-21T12:53:52.500511Z"
    }
   },
   "cell_type": "code",
   "source": [
    "# Calculate accuracy\n",
    "accuracy = accuracy_score(all_labels, all_predictions)\n",
    "print(f\"Test Accuracy: {accuracy:.4f}\")\n",
    "\n",
    "# Detailed classification report\n",
    "print(classification_report(all_labels, all_predictions, target_names=['Negative', 'Neutral', 'Positive']))"
   ],
   "id": "f2818ba3f156ef84",
   "outputs": [
    {
     "name": "stdout",
     "output_type": "stream",
     "text": [
      "Test Accuracy: 0.8510\n",
      "              precision    recall  f1-score   support\n",
      "\n",
      "    Negative       0.91      0.90      0.91       492\n",
      "     Neutral       0.83      0.84      0.84       567\n",
      "    Positive       0.82      0.81      0.82       545\n",
      "\n",
      "    accuracy                           0.85      1604\n",
      "   macro avg       0.85      0.85      0.85      1604\n",
      "weighted avg       0.85      0.85      0.85      1604\n",
      "\n"
     ]
    }
   ],
   "execution_count": 71
  },
  {
   "metadata": {
    "ExecuteTime": {
     "end_time": "2024-11-21T12:53:00.022175Z",
     "start_time": "2024-11-21T12:53:00.001620Z"
    }
   },
   "cell_type": "code",
   "source": "precision, recall, f1, _ = precision_recall_fscore_support(all_labels, all_predictions, average='weighted')",
   "id": "3b1c4d30266b1c6a",
   "outputs": [],
   "execution_count": 67
  },
  {
   "metadata": {
    "ExecuteTime": {
     "end_time": "2024-11-21T12:53:01.847736Z",
     "start_time": "2024-11-21T12:53:01.838718Z"
    }
   },
   "cell_type": "code",
   "source": [
    "print(f\"Test Accuracy: {accuracy:.4f}\")\n",
    "print(f\"Precision: {precision:.4f}\")\n",
    "print(f\"Recall: {recall:.4f}\")\n",
    "print(f\"F1 Score: {f1:.4f}\")"
   ],
   "id": "b7775748d369dec7",
   "outputs": [
    {
     "name": "stdout",
     "output_type": "stream",
     "text": [
      "Test Accuracy: 0.8510\n",
      "Precision: 0.8511\n",
      "Recall: 0.8510\n",
      "F1 Score: 0.8510\n"
     ]
    }
   ],
   "execution_count": 68
  },
  {
   "metadata": {
    "ExecuteTime": {
     "end_time": "2024-11-21T12:56:24.168795Z",
     "start_time": "2024-11-21T12:56:22.192164Z"
    }
   },
   "cell_type": "code",
   "source": [
    "# Confusion Matrix\n",
    "conf_matrix = confusion_matrix(all_labels, all_predictions)\n",
    "\n",
    "# disp = ConfusionMatrixDisplay(confusion_matrix=conf_matrix, display_labels=lr_best.classes_)\n",
    "disp = ConfusionMatrixDisplay(confusion_matrix=conf_matrix, display_labels=['negative',  'neutral', 'positive'])\n",
    "disp.plot(cmap='Blues')\n",
    "# Remove gridlines\n",
    "plt.grid(False)\n",
    "plt.title('Confusion Matrix for DistilBERT + LSTM Model')\n",
    "plt.show()"
   ],
   "id": "abb0b0a76e19d13c",
   "outputs": [
    {
     "data": {
      "text/plain": [
       "<Figure size 640x480 with 2 Axes>"
      ],
      "image/png": "[encoded data removed]"
     },
     "metadata": {},
     "output_type": "display_data"
    }
   ],
   "execution_count": 73
  },
  {
   "cell_type": "markdown",
   "id": "43f5094e737668ec",
   "metadata": {},
   "source": [
    "## 4. Naive Bayes Model"
   ]
  },
  {
   "cell_type": "code",
   "id": "13e2c7590b219218",
   "metadata": {
    "ExecuteTime": {
     "end_time": "2024-11-21T13:45:07.597230Z",
     "start_time": "2024-11-21T13:45:07.568587Z"
    }
   },
   "source": [
    "# Preprocess the text data\n",
    "def preprocess_text(text):\n",
    "    # Tokenize the text\n",
    "    tokens = word_tokenize(text.lower())\n",
    "    # Remove punctuation\n",
    "    tokens = [word for word in tokens if word.isalpha()]\n",
    "    # Remove stopwords\n",
    "    stop_words = set(stopwords.words('english'))\n",
    "    tokens = [word for word in tokens if word not in stop_words]\n",
    "    return ' '.join(tokens)"
   ],
   "outputs": [],
   "execution_count": 75
  },
  {
   "cell_type": "code",
   "id": "4273d44c696aca2a",
   "metadata": {
    "ExecuteTime": {
     "end_time": "2024-11-21T13:45:14.789911Z",
     "start_time": "2024-11-21T13:45:14.654599Z"
    }
   },
   "source": [
    "data.info()"
   ],
   "outputs": [
    {
     "name": "stdout",
     "output_type": "stream",
     "text": [
      "<class 'pandas.core.frame.DataFrame'>\n",
      "Index: 8020 entries, 0 to 8020\n",
      "Data columns (total 3 columns):\n",
      " #   Column             Non-Null Count  Dtype \n",
      "---  ------             --------------  ----- \n",
      " 0   sentiment          8020 non-null   object\n",
      " 1   news               8020 non-null   object\n",
      " 2   sentiment_encoded  8020 non-null   int32 \n",
      "dtypes: int32(1), object(2)\n",
      "memory usage: 477.3+ KB\n"
     ]
    }
   ],
   "execution_count": 76
  },
  {
   "cell_type": "code",
   "id": "dda894e176d280fe",
   "metadata": {
    "ExecuteTime": {
     "end_time": "2024-11-21T13:45:27.910780Z",
     "start_time": "2024-11-21T13:45:18.900281Z"
    }
   },
   "source": [
    "data['processed_news'] = data['news'].apply(preprocess_text)"
   ],
   "outputs": [],
   "execution_count": 77
  },
  {
   "metadata": {
    "ExecuteTime": {
     "end_time": "2024-11-21T13:46:13.437384Z",
     "start_time": "2024-11-21T13:46:13.416477Z"
    }
   },
   "cell_type": "code",
   "source": "data.processed_news[0]",
   "id": "600c8e81e5e49c83",
   "outputs": [
    {
     "data": {
      "text/plain": [
       "'according gran company plans move production russia although company growing'"
      ]
     },
     "execution_count": 80,
     "metadata": {},
     "output_type": "execute_result"
    }
   ],
   "execution_count": 80
  },
  {
   "cell_type": "code",
   "id": "37698927d0c43380",
   "metadata": {
    "ExecuteTime": {
     "end_time": "2024-11-21T13:46:21.470064Z",
     "start_time": "2024-11-21T13:46:21.252232Z"
    }
   },
   "source": [
    "# Convert text data into numerical features\n",
    "vectorizer = CountVectorizer()\n",
    "X = vectorizer.fit_transform(data['processed_news'])\n",
    "y = data['sentiment']"
   ],
   "outputs": [],
   "execution_count": 81
  },
  {
   "metadata": {
    "ExecuteTime": {
     "end_time": "2024-11-21T13:46:53.330210Z",
     "start_time": "2024-11-21T13:46:53.321396Z"
    }
   },
   "cell_type": "code",
   "source": "print(X[0])",
   "id": "c643f58f1a0cf40f",
   "outputs": [
    {
     "name": "stdout",
     "output_type": "stream",
     "text": [
      "  (0, 65)\t1\n",
      "  (0, 4040)\t1\n",
      "  (0, 1780)\t2\n",
      "  (0, 7267)\t1\n",
      "  (0, 6292)\t1\n",
      "  (0, 7562)\t1\n",
      "  (0, 8437)\t1\n",
      "  (0, 364)\t1\n",
      "  (0, 4097)\t1\n"
     ]
    }
   ],
   "execution_count": 84
  },
  {
   "metadata": {
    "ExecuteTime": {
     "end_time": "2024-11-21T14:02:07.938600Z",
     "start_time": "2024-11-21T14:02:07.901189Z"
    }
   },
   "cell_type": "code",
   "source": [
    "# Get the first processed news\n",
    "first_news = [data['processed_news'][0]]\n",
    "\n",
    "# Transform the first news entry using the CountVectorizer\n",
    "first_news_vectorized = vectorizer.transform(first_news)\n",
    "\n",
    "# Get the feature names (words)\n",
    "feature_names = vectorizer.get_feature_names_out()\n",
    "\n",
    "# Convert the sparse matrix to a dense array\n",
    "first_news_dense = first_news_vectorized.toarray()\n",
    "\n",
    "# Create a DataFrame to display word frequencies\n",
    "first_news_df = pd.DataFrame(first_news_dense, columns=feature_names)\n",
    "\n",
    "# Display non-zero frequencies\n",
    "non_zero_features = first_news_df.loc[:, (first_news_df != 0).any(axis=0)]\n",
    "print(non_zero_features)\n"
   ],
   "id": "4c32e9bc02f30b36",
   "outputs": [
    {
     "name": "stdout",
     "output_type": "stream",
     "text": [
      "   according  although  company  gran  growing  move  plans  production  \\\n",
      "0          1         1        2     1        1     1      1           1   \n",
      "\n",
      "   russia  \n",
      "0       1  \n"
     ]
    }
   ],
   "execution_count": 87
  },
  {
   "metadata": {
    "ExecuteTime": {
     "end_time": "2024-11-21T14:02:19.502725Z",
     "start_time": "2024-11-21T14:02:19.487743Z"
    }
   },
   "cell_type": "code",
   "source": "non_zero_features",
   "id": "affc2d19bdf816f6",
   "outputs": [
    {
     "data": {
      "text/plain": [
       "   according  although  company  gran  growing  move  plans  production  \\\n",
       "0          1         1        2     1        1     1      1           1   \n",
       "\n",
       "   russia  \n",
       "0       1  "
      ],
      "text/html": [
       "<div>\n",
       "<style scoped>\n",
       "    .dataframe tbody tr th:only-of-type {\n",
       "        vertical-align: middle;\n",
       "    }\n",
       "\n",
       "    .dataframe tbody tr th {\n",
       "        vertical-align: top;\n",
       "    }\n",
       "\n",
       "    .dataframe thead th {\n",
       "        text-align: right;\n",
       "    }\n",
       "</style>\n",
       "<table border=\"1\" class=\"dataframe\">\n",
       "  <thead>\n",
       "    <tr style=\"text-align: right;\">\n",
       "      <th></th>\n",
       "      <th>according</th>\n",
       "      <th>although</th>\n",
       "      <th>company</th>\n",
       "      <th>gran</th>\n",
       "      <th>growing</th>\n",
       "      <th>move</th>\n",
       "      <th>plans</th>\n",
       "      <th>production</th>\n",
       "      <th>russia</th>\n",
       "    </tr>\n",
       "  </thead>\n",
       "  <tbody>\n",
       "    <tr>\n",
       "      <th>0</th>\n",
       "      <td>1</td>\n",
       "      <td>1</td>\n",
       "      <td>2</td>\n",
       "      <td>1</td>\n",
       "      <td>1</td>\n",
       "      <td>1</td>\n",
       "      <td>1</td>\n",
       "      <td>1</td>\n",
       "      <td>1</td>\n",
       "    </tr>\n",
       "  </tbody>\n",
       "</table>\n",
       "</div>"
      ]
     },
     "execution_count": 88,
     "metadata": {},
     "output_type": "execute_result"
    }
   ],
   "execution_count": 88
  }
 ],
 "metadata": {
  "kernelspec": {
   "display_name": "Python 3 (ipykernel)",
   "language": "python",
   "name": "python3"
  },
  "language_info": {
   "codemirror_mode": {
    "name": "ipython",
    "version": 3
   },
   "file_extension": ".py",
   "mimetype": "text/x-python",
   "name": "python",
   "nbconvert_exporter": "python",
   "pygments_lexer": "ipython3",
   "version": "3.11.9"
  }
 },
 "nbformat": 4,
 "nbformat_minor": 5
}
