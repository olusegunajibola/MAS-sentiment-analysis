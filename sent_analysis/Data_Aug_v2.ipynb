{
 "cells": [
  {
   "metadata": {},
   "cell_type": "markdown",
   "source": [
    "# Data Augmentation\n",
    "\n",
    "Here we balance out the datasets using https://groq.com/ free API."
   ],
   "id": "145e2782e0c3ee0b"
  },
  {
   "metadata": {
    "ExecuteTime": {
     "end_time": "2024-10-13T16:33:32.332106Z",
     "start_time": "2024-10-13T16:33:31.614870Z"
    }
   },
   "cell_type": "code",
   "source": [
    "import os\n",
    "import pandas as pd\n",
    "from groq import Groq\n",
    "import time"
   ],
   "id": "initial_id",
   "outputs": [],
   "execution_count": 1
  },
  {
   "metadata": {
    "ExecuteTime": {
     "end_time": "2024-10-13T16:33:33.066317Z",
     "start_time": "2024-10-13T16:33:32.344123Z"
    }
   },
   "cell_type": "code",
   "source": [
    "# Set up your Groq client\n",
    "client = Groq(api_key=os.getenv('GROQ_API_KEY'))\n",
    "print(client)"
   ],
   "id": "e1072644494aaa26",
   "outputs": [
    {
     "name": "stdout",
     "output_type": "stream",
     "text": [
      "<groq.Groq object at 0x000001D1BE7AA650>\n"
     ]
    }
   ],
   "execution_count": 2
  },
  {
   "metadata": {
    "ExecuteTime": {
     "end_time": "2024-10-13T16:33:37.650868Z",
     "start_time": "2024-10-13T16:33:37.615972Z"
    }
   },
   "cell_type": "code",
   "source": [
    "# import DataFrame\n",
    "\n",
    "df = pd.read_csv(\"D:\\Data\\PyCharmProjects\\MAS-sentiment-analysis\\data/financial_news.csv\", \n",
    "                   names=['sentiment', 'news'])\n",
    "df.info()"
   ],
   "id": "c2293c83094eae54",
   "outputs": [
    {
     "name": "stdout",
     "output_type": "stream",
     "text": [
      "<class 'pandas.core.frame.DataFrame'>\n",
      "RangeIndex: 4846 entries, 0 to 4845\n",
      "Data columns (total 2 columns):\n",
      " #   Column     Non-Null Count  Dtype \n",
      "---  ------     --------------  ----- \n",
      " 0   sentiment  4846 non-null   object\n",
      " 1   news       4846 non-null   object\n",
      "dtypes: object(2)\n",
      "memory usage: 75.8+ KB\n"
     ]
    }
   ],
   "execution_count": 3
  },
  {
   "metadata": {
    "ExecuteTime": {
     "end_time": "2024-10-13T16:33:43.476959Z",
     "start_time": "2024-10-13T16:33:43.458960Z"
    }
   },
   "cell_type": "code",
   "source": "df.sentiment.value_counts()",
   "id": "d3cd3770a4d96afd",
   "outputs": [
    {
     "data": {
      "text/plain": [
       "sentiment\n",
       "neutral     2879\n",
       "positive    1363\n",
       "negative     604\n",
       "Name: count, dtype: int64"
      ]
     },
     "execution_count": 4,
     "metadata": {},
     "output_type": "execute_result"
    }
   ],
   "execution_count": 4
  },
  {
   "metadata": {
    "ExecuteTime": {
     "end_time": "2024-10-13T13:35:15.510123Z",
     "start_time": "2024-10-13T13:35:15.498262Z"
    }
   },
   "cell_type": "code",
   "source": [
    "# Number of rows we want for label 0\n",
    "target_rows_label_0 = len(df[df.sentiment == 'negative']) * 4 # 604\n",
    "\n",
    "# Find underrepresented rows (label == 0)\n",
    "underrepresented_texts = df[df['sentiment'] == 'negative']['news'].tolist()\n",
    "\n",
    "# Number of examples we currently have for label 0\n",
    "current_rows_label_0 = len(underrepresented_texts)\n",
    "\n",
    "# Number of additional examples we need\n",
    "needed_examples = target_rows_label_0 - current_rows_label_0"
   ],
   "id": "98fbcf9663afc260",
   "outputs": [],
   "execution_count": 7
  },
  {
   "metadata": {
    "ExecuteTime": {
     "end_time": "2024-10-13T13:37:10.398539Z",
     "start_time": "2024-10-13T13:37:10.388562Z"
    }
   },
   "cell_type": "code",
   "source": "underrepresented_texts[:10]",
   "id": "349e5cefcebd4c39",
   "outputs": [
    {
     "data": {
      "text/plain": [
       "['The international electronic industry company Elcoteq has laid off tens of employees from its Tallinn facility ; contrary to earlier layoffs the company contracted the ranks of its office workers , the daily Postimees reported .',\n",
       " 'A tinyurl link takes users to a scamming site promising that users can earn thousands of dollars by becoming a Google ( NASDAQ : GOOG ) Cash advertiser .',\n",
       " 'Compared with the FTSE 100 index , which rose 36.7 points ( or 0.6 % ) on the day , this was a relative price change of -0.2 % .',\n",
       " 'Compared with the FTSE 100 index , which rose 94.9 points ( or 1.6 % ) on the day , this was a relative price change of -0.4 % .',\n",
       " 'One of the challenges in the oil production in the North Sea is scale formation that can plug pipelines and halt production .',\n",
       " 'Jan. 6 -- Ford is struggling in the face of slowing truck and SUV sales and a surfeit of up-to-date , gotta-have cars .',\n",
       " 'Peer Peugeot fell 0.81 pct as its sales rose only 6.3 pct from the same period last year .',\n",
       " 'Pharmaceuticals group Orion Corp reported a fall in its third-quarter earnings that were hit by larger expenditures on R&D and marketing .',\n",
       " 'However , the growth margin slowed down due to the financial crisis .',\n",
       " '2009 3 February 2010 - Finland-based steel maker Rautaruukki Oyj ( HEL : RTRKS ) , or Ruukki , said today it slipped to a larger-than-expected pretax loss of EUR46m in the fourth quarter of 2009 from a year-earlier profit of EUR45m .']"
      ]
     },
     "execution_count": 10,
     "metadata": {},
     "output_type": "execute_result"
    }
   ],
   "execution_count": 10
  },
  {
   "metadata": {
    "ExecuteTime": {
     "end_time": "2024-10-13T14:57:18.730712Z",
     "start_time": "2024-10-13T13:39:00.473538Z"
    }
   },
   "cell_type": "code",
   "source": [
    "# Augment the underrepresented class with new examples\n",
    "augmented_texts = []\n",
    "for i in range(needed_examples):\n",
    "    # Select a random text from the underrepresented class to augment\n",
    "    text = underrepresented_texts[i % current_rows_label_0]  # Cycle through available texts if needed\n",
    "    \n",
    "    response = client.chat.completions.create(\n",
    "        messages=[\n",
    "            {\"role\": \"system\", \"content\": \"You are a data augmentation assistant.\"},\n",
    "            {\"role\": \"user\", \"content\": f\"Generate a headline similar to: {text} and reply with response only without quotes\"},\n",
    "        ],\n",
    "        model=\"llama3-8b-8192\"\n",
    "    )\n",
    "    \n",
    "    # Get the augmented text from the response\n",
    "    augmented_data = response.choices[0].message.content\n",
    "    augmented_texts.append(augmented_data)"
   ],
   "id": "b4f6ac62d6aa0cf9",
   "outputs": [
    {
     "name": "stdout",
     "output_type": "stream",
     "text": [
      "                                                   news sentiment\n",
      "0     Global IT giant undertakes unexpected downsizi...  negative\n",
      "1     Mysterious Online Platform Guarantees Quick Ri...  negative\n",
      "2     Here is the generated headline:\\n\\nCompared wi...  negative\n",
      "3     Here is a generated headline:\\n\\nCompared with...  negative\n",
      "4     One of the key issues affecting offshore gas e...  negative\n",
      "...                                                 ...       ...\n",
      "1807  AMSTERDAM Bloomberg - Shares in Damen Shiprepa...  negative\n",
      "1808  LONDON MarketWatch -- U.S. Equities Index Gain...  negative\n",
      "1809  Net Loss Widens to EUR 32.5 mn as Reduced Vess...  negative\n",
      "1810  Quarterly Net Sales of Paper Segment Dip to EU...  negative\n",
      "1811  Industrial Production in Italy Falls by 12.8% ...  negative\n",
      "\n",
      "[1812 rows x 2 columns]\n"
     ]
    }
   ],
   "execution_count": 11
  },
  {
   "metadata": {
    "ExecuteTime": {
     "end_time": "2024-10-13T15:03:22.238432Z",
     "start_time": "2024-10-13T15:03:22.219116Z"
    }
   },
   "cell_type": "code",
   "source": [
    "# Create a new DataFrame for the augmented data\n",
    "augmented_df = pd.DataFrame({\n",
    "    'news': augmented_texts,\n",
    "    'sentiment': ['negative'] * needed_examples  # Label the new examples as 0\n",
    "})\n",
    "\n",
    "# # Combine the original and augmented DataFrames\n",
    "balanced_df = pd.concat([df, augmented_df], ignore_index=True)\n",
    "\n",
    "# Display the balanced DataFrame\n",
    "# print(balanced_df)\n",
    "print(augmented_df)"
   ],
   "id": "ad20cedeed9d1744",
   "outputs": [
    {
     "name": "stdout",
     "output_type": "stream",
     "text": [
      "                                                   news sentiment\n",
      "0     Global IT giant undertakes unexpected downsizi...  negative\n",
      "1     Mysterious Online Platform Guarantees Quick Ri...  negative\n",
      "2     Here is the generated headline:\\n\\nCompared wi...  negative\n",
      "3     Here is a generated headline:\\n\\nCompared with...  negative\n",
      "4     One of the key issues affecting offshore gas e...  negative\n",
      "...                                                 ...       ...\n",
      "1807  AMSTERDAM Bloomberg - Shares in Damen Shiprepa...  negative\n",
      "1808  LONDON MarketWatch -- U.S. Equities Index Gain...  negative\n",
      "1809  Net Loss Widens to EUR 32.5 mn as Reduced Vess...  negative\n",
      "1810  Quarterly Net Sales of Paper Segment Dip to EU...  negative\n",
      "1811  Industrial Production in Italy Falls by 12.8% ...  negative\n",
      "\n",
      "[1812 rows x 2 columns]\n"
     ]
    }
   ],
   "execution_count": 17
  },
  {
   "metadata": {
    "ExecuteTime": {
     "end_time": "2024-10-13T15:03:26.639318Z",
     "start_time": "2024-10-13T15:03:26.632169Z"
    }
   },
   "cell_type": "code",
   "source": "print(augmented_df.iloc[3].news)",
   "id": "b357fabc33244fa7",
   "outputs": [
    {
     "name": "stdout",
     "output_type": "stream",
     "text": [
      "Here is a generated headline:\n",
      "\n",
      "Compared with the S&P 500 index, which fell 15.2 points (or 0.6%) on the day, this was a relative price change of 2.1%.\n"
     ]
    }
   ],
   "execution_count": 18
  },
  {
   "metadata": {
    "ExecuteTime": {
     "end_time": "2024-10-13T15:03:28.206045Z",
     "start_time": "2024-10-13T15:03:28.190615Z"
    }
   },
   "cell_type": "code",
   "source": "balanced_df.info()",
   "id": "5effe936fd9f7bb1",
   "outputs": [
    {
     "name": "stdout",
     "output_type": "stream",
     "text": [
      "<class 'pandas.core.frame.DataFrame'>\n",
      "RangeIndex: 6658 entries, 0 to 6657\n",
      "Data columns (total 2 columns):\n",
      " #   Column     Non-Null Count  Dtype \n",
      "---  ------     --------------  ----- \n",
      " 0   sentiment  6658 non-null   object\n",
      " 1   news       6658 non-null   object\n",
      "dtypes: object(2)\n",
      "memory usage: 104.2+ KB\n"
     ]
    }
   ],
   "execution_count": 19
  },
  {
   "metadata": {
    "ExecuteTime": {
     "end_time": "2024-10-13T15:03:54.053104Z",
     "start_time": "2024-10-13T15:03:54.041105Z"
    }
   },
   "cell_type": "code",
   "source": "balanced_df.sentiment.value_counts()",
   "id": "cf7456ea1e469e70",
   "outputs": [
    {
     "data": {
      "text/plain": [
       "sentiment\n",
       "neutral     2879\n",
       "negative    2416\n",
       "positive    1363\n",
       "Name: count, dtype: int64"
      ]
     },
     "execution_count": 21,
     "metadata": {},
     "output_type": "execute_result"
    }
   ],
   "execution_count": 21
  },
  {
   "metadata": {
    "ExecuteTime": {
     "end_time": "2024-10-13T15:06:20.794786Z",
     "start_time": "2024-10-13T15:06:20.752532Z"
    }
   },
   "cell_type": "code",
   "source": "balanced_df.to_csv('D:\\Data\\PyCharmProjects\\MAS-sentiment-analysis\\data/balanced_negative.csv', index=False)",
   "id": "6d18c61345951ea4",
   "outputs": [],
   "execution_count": 22
  },
  {
   "metadata": {},
   "cell_type": "markdown",
   "source": [
    "Now we build the above into a function and do the same for 'positive' sentiment news.\n",
    "\n"
   ],
   "id": "3fa6add9571966bf"
  },
  {
   "metadata": {
    "ExecuteTime": {
     "end_time": "2024-10-13T16:35:19.099241Z",
     "start_time": "2024-10-13T16:35:19.068960Z"
    }
   },
   "cell_type": "code",
   "source": "balanced_df = pd.read_csv('D:\\Data\\PyCharmProjects\\MAS-sentiment-analysis\\data/balanced_negative.csv')",
   "id": "8597a587a5e116",
   "outputs": [],
   "execution_count": 7
  },
  {
   "metadata": {
    "ExecuteTime": {
     "end_time": "2024-10-13T16:35:36.793760Z",
     "start_time": "2024-10-13T16:35:36.782298Z"
    }
   },
   "cell_type": "code",
   "source": "balanced_df.sentiment.value_counts()",
   "id": "ed7fcd8d81192b54",
   "outputs": [
    {
     "data": {
      "text/plain": [
       "sentiment\n",
       "neutral     2879\n",
       "negative    2416\n",
       "positive    1363\n",
       "Name: count, dtype: int64"
      ]
     },
     "execution_count": 8,
     "metadata": {},
     "output_type": "execute_result"
    }
   ],
   "execution_count": 8
  },
  {
   "metadata": {
    "ExecuteTime": {
     "end_time": "2024-10-13T16:37:27.482791Z",
     "start_time": "2024-10-13T16:37:27.476570Z"
    }
   },
   "cell_type": "code",
   "source": "df2 = balanced_df.copy()",
   "id": "f0351f27c06faf08",
   "outputs": [],
   "execution_count": 11
  },
  {
   "metadata": {
    "ExecuteTime": {
     "end_time": "2024-10-13T16:37:28.686699Z",
     "start_time": "2024-10-13T16:37:28.680590Z"
    }
   },
   "cell_type": "code",
   "source": "import groq_augment",
   "id": "390e01646f9f2274",
   "outputs": [],
   "execution_count": 12
  },
  {
   "metadata": {
    "ExecuteTime": {
     "end_time": "2024-10-13T17:36:13.979625Z",
     "start_time": "2024-10-13T16:37:35.607773Z"
    }
   },
   "cell_type": "code",
   "source": [
    "start_time = time.time()\n",
    "\n",
    "balanced_df_pos, augmented_df_pos = groq_augment.augment_sentiment(df2, target_ratio=2, sentiment_class='positive')\n",
    "\n",
    "end_time = time.time()\n",
    "print(f\"Time taken: {round((end_time - start_time)/60, 2)} minutes\")"
   ],
   "id": "4f4403e04044733",
   "outputs": [
    {
     "name": "stdout",
     "output_type": "stream",
     "text": [
      "Time taken: 58.64 minutes\n"
     ]
    }
   ],
   "execution_count": 13
  },
  {
   "metadata": {
    "ExecuteTime": {
     "end_time": "2024-10-13T17:36:14.307625Z",
     "start_time": "2024-10-13T17:36:14.226622Z"
    }
   },
   "cell_type": "code",
   "source": "balanced_df_pos.info()",
   "id": "845e4a289f16d0b",
   "outputs": [
    {
     "name": "stdout",
     "output_type": "stream",
     "text": [
      "<class 'pandas.core.frame.DataFrame'>\n",
      "RangeIndex: 8021 entries, 0 to 8020\n",
      "Data columns (total 2 columns):\n",
      " #   Column     Non-Null Count  Dtype \n",
      "---  ------     --------------  ----- \n",
      " 0   sentiment  8021 non-null   object\n",
      " 1   news       8021 non-null   object\n",
      "dtypes: object(2)\n",
      "memory usage: 125.5+ KB\n"
     ]
    }
   ],
   "execution_count": 14
  },
  {
   "metadata": {
    "ExecuteTime": {
     "end_time": "2024-10-13T17:36:14.683609Z",
     "start_time": "2024-10-13T17:36:14.665611Z"
    }
   },
   "cell_type": "code",
   "source": "type(balanced_df_pos)",
   "id": "3f52da6546c94a74",
   "outputs": [
    {
     "data": {
      "text/plain": [
       "pandas.core.frame.DataFrame"
      ]
     },
     "execution_count": 15,
     "metadata": {},
     "output_type": "execute_result"
    }
   ],
   "execution_count": 15
  },
  {
   "metadata": {
    "ExecuteTime": {
     "end_time": "2024-10-13T17:36:46.418368Z",
     "start_time": "2024-10-13T17:36:46.400635Z"
    }
   },
   "cell_type": "code",
   "source": "augmented_df_pos",
   "id": "88b21844e8059552",
   "outputs": [
    {
     "data": {
      "text/plain": [
       "                                                   news sentiment\n",
       "0     Factory Expansion Accelerates Production, Enha...  positive\n",
       "1     Finextra: Swedish fintech company sets ambitio...  positive\n",
       "2     Electronics Component Manufacturer Sets Sight ...  positive\n",
       "3     Componenta Reports Significant Growth in 2022,...  positive\n",
       "4     In the latest fiscal period, revenue expanded ...  positive\n",
       "...                                                 ...       ...\n",
       "1358  The newly developed residential complex will b...  positive\n",
       "1359  The oral medication, administered at doses up ...  positive\n",
       "1360  Nordea B-S NORdea 130.2 DKR improved 2.9% from...  positive\n",
       "1361  Staying ahead of the curve through our dedicat...  positive\n",
       "1362  2023 Revenue Goal Set at USD 50 Million, Goal ...  positive\n",
       "\n",
       "[1363 rows x 2 columns]"
      ],
      "text/html": [
       "<div>\n",
       "<style scoped>\n",
       "    .dataframe tbody tr th:only-of-type {\n",
       "        vertical-align: middle;\n",
       "    }\n",
       "\n",
       "    .dataframe tbody tr th {\n",
       "        vertical-align: top;\n",
       "    }\n",
       "\n",
       "    .dataframe thead th {\n",
       "        text-align: right;\n",
       "    }\n",
       "</style>\n",
       "<table border=\"1\" class=\"dataframe\">\n",
       "  <thead>\n",
       "    <tr style=\"text-align: right;\">\n",
       "      <th></th>\n",
       "      <th>news</th>\n",
       "      <th>sentiment</th>\n",
       "    </tr>\n",
       "  </thead>\n",
       "  <tbody>\n",
       "    <tr>\n",
       "      <th>0</th>\n",
       "      <td>Factory Expansion Accelerates Production, Enha...</td>\n",
       "      <td>positive</td>\n",
       "    </tr>\n",
       "    <tr>\n",
       "      <th>1</th>\n",
       "      <td>Finextra: Swedish fintech company sets ambitio...</td>\n",
       "      <td>positive</td>\n",
       "    </tr>\n",
       "    <tr>\n",
       "      <th>2</th>\n",
       "      <td>Electronics Component Manufacturer Sets Sight ...</td>\n",
       "      <td>positive</td>\n",
       "    </tr>\n",
       "    <tr>\n",
       "      <th>3</th>\n",
       "      <td>Componenta Reports Significant Growth in 2022,...</td>\n",
       "      <td>positive</td>\n",
       "    </tr>\n",
       "    <tr>\n",
       "      <th>4</th>\n",
       "      <td>In the latest fiscal period, revenue expanded ...</td>\n",
       "      <td>positive</td>\n",
       "    </tr>\n",
       "    <tr>\n",
       "      <th>...</th>\n",
       "      <td>...</td>\n",
       "      <td>...</td>\n",
       "    </tr>\n",
       "    <tr>\n",
       "      <th>1358</th>\n",
       "      <td>The newly developed residential complex will b...</td>\n",
       "      <td>positive</td>\n",
       "    </tr>\n",
       "    <tr>\n",
       "      <th>1359</th>\n",
       "      <td>The oral medication, administered at doses up ...</td>\n",
       "      <td>positive</td>\n",
       "    </tr>\n",
       "    <tr>\n",
       "      <th>1360</th>\n",
       "      <td>Nordea B-S NORdea 130.2 DKR improved 2.9% from...</td>\n",
       "      <td>positive</td>\n",
       "    </tr>\n",
       "    <tr>\n",
       "      <th>1361</th>\n",
       "      <td>Staying ahead of the curve through our dedicat...</td>\n",
       "      <td>positive</td>\n",
       "    </tr>\n",
       "    <tr>\n",
       "      <th>1362</th>\n",
       "      <td>2023 Revenue Goal Set at USD 50 Million, Goal ...</td>\n",
       "      <td>positive</td>\n",
       "    </tr>\n",
       "  </tbody>\n",
       "</table>\n",
       "<p>1363 rows × 2 columns</p>\n",
       "</div>"
      ]
     },
     "execution_count": 16,
     "metadata": {},
     "output_type": "execute_result"
    }
   ],
   "execution_count": 16
  },
  {
   "metadata": {
    "ExecuteTime": {
     "end_time": "2024-10-13T17:37:41.780909Z",
     "start_time": "2024-10-13T17:37:41.771676Z"
    }
   },
   "cell_type": "code",
   "source": "augmented_df_pos.iloc[7].news",
   "id": "c24e06218229c906",
   "outputs": [
    {
     "data": {
      "text/plain": [
       "'Here is a generated headline:\\n\\nVeon Ventures announces strategic investment to enhance mobile services, aligning with its core business expansion strategy.'"
      ]
     },
     "execution_count": 18,
     "metadata": {},
     "output_type": "execute_result"
    }
   ],
   "execution_count": 18
  },
  {
   "metadata": {
    "ExecuteTime": {
     "end_time": "2024-10-13T17:38:23.433576Z",
     "start_time": "2024-10-13T17:38:23.420746Z"
    }
   },
   "cell_type": "code",
   "source": "balanced_df_pos.sentiment.value_counts()",
   "id": "4d9f133e9daf51b9",
   "outputs": [
    {
     "data": {
      "text/plain": [
       "sentiment\n",
       "neutral     2879\n",
       "positive    2726\n",
       "negative    2416\n",
       "Name: count, dtype: int64"
      ]
     },
     "execution_count": 19,
     "metadata": {},
     "output_type": "execute_result"
    }
   ],
   "execution_count": 19
  },
  {
   "metadata": {
    "ExecuteTime": {
     "end_time": "2024-10-13T17:42:05.665955Z",
     "start_time": "2024-10-13T17:42:05.594550Z"
    }
   },
   "cell_type": "code",
   "source": "balanced_df_pos.to_csv('D:\\Data\\PyCharmProjects\\MAS-sentiment-analysis\\data/balanced_negative_positive.csv', index=False)",
   "id": "6e97146c87318b31",
   "outputs": [],
   "execution_count": 25
  },
  {
   "metadata": {},
   "cell_type": "code",
   "outputs": [],
   "execution_count": null,
   "source": "",
   "id": "b28be11f6b02acc5"
  }
 ],
 "metadata": {
  "kernelspec": {
   "display_name": "Python 3",
   "language": "python",
   "name": "python3"
  },
  "language_info": {
   "codemirror_mode": {
    "name": "ipython",
    "version": 2
   },
   "file_extension": ".py",
   "mimetype": "text/x-python",
   "name": "python",
   "nbconvert_exporter": "python",
   "pygments_lexer": "ipython2",
   "version": "2.7.6"
  }
 },
 "nbformat": 4,
 "nbformat_minor": 5
}
